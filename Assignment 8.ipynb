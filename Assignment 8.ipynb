{
 "cells": [
  {
   "cell_type": "markdown",
   "metadata": {},
   "source": [
    "<table class=\"m08-notebook-buttons\" align=\"left\">\n",
    "  <td>\n",
    "    <a target=\"_blank\" href=\"https://colab.research.google.com/github/yy/dviz-course/blob/master/m08-histogram/m08-lab.ipynb\"><img src=\"https://www.tensorflow.org/images/colab_logo_32px.png\" />Run in Google Colab</a>\n",
    "  </td>\n",
    "  <td>\n",
    "    <a href=\"https://github.com/yy/dviz-course/blob/master/m08-histogram/m08-lab.ipynb\"><img src=\"https://www.tensorflow.org/images/GitHub-Mark-32px.png\" />View on Github</a>\n",
    "  </td>\n",
    "</table>"
   ]
  },
  {
   "cell_type": "markdown",
   "metadata": {
    "id": "uJaeks6I_G-4"
   },
   "source": [
    "# Module 8: Histogram and CDF\n",
    "\n",
    "A deep dive into Histogram and boxplot."
   ]
  },
  {
   "cell_type": "code",
   "execution_count": 91,
   "metadata": {
    "id": "a7PXB9c9_G-5"
   },
   "outputs": [],
   "source": [
    "import matplotlib.pyplot as plt\n",
    "import numpy as np\n",
    "import seaborn as sns\n",
    "import altair as alt\n",
    "import pandas as pd"
   ]
  },
  {
   "cell_type": "code",
   "execution_count": 92,
   "metadata": {
    "id": "b05OkVl0_G-6",
    "jupyter": {
     "outputs_hidden": false
    },
    "outputId": "5f126950-0ded-4241-e1a1-10469535d3ab"
   },
   "outputs": [
    {
     "data": {
      "text/plain": [
       "'3.5.1'"
      ]
     },
     "execution_count": 92,
     "metadata": {},
     "output_type": "execute_result"
    }
   ],
   "source": [
    "import matplotlib\n",
    "matplotlib.__version__"
   ]
  },
  {
   "cell_type": "markdown",
   "metadata": {
    "id": "8_bJgIa-_G-7"
   },
   "source": [
    "## The tricky histogram with pre-counted data"
   ]
  },
  {
   "cell_type": "markdown",
   "metadata": {
    "id": "BlKijZi6_G-7"
   },
   "source": [
    "Let's revisit the table from the class\n",
    "\n",
    "| Hours | Frequency |\n",
    "|-------|-----------|\n",
    "| 0-1   | 4,300     |\n",
    "| 1-3   | 6,900     |\n",
    "| 3-5   | 4,900     |\n",
    "| 5-10  | 2,000     |\n",
    "| 10-24 | 2,100     |"
   ]
  },
  {
   "cell_type": "markdown",
   "metadata": {
    "id": "TRqvntvf_G-8"
   },
   "source": [
    "You can draw a histogram by just providing bins and counts instead of a list of numbers. So, let's try that. "
   ]
  },
  {
   "cell_type": "code",
   "execution_count": 93,
   "metadata": {
    "id": "QZ4VOzrB_G-8"
   },
   "outputs": [],
   "source": [
    "bins = [0, 1, 3, 5, 10, 24]\n",
    "data = {0.5: 4300, 2: 6900, 4: 4900, 7: 2000, 15: 2100} "
   ]
  },
  {
   "cell_type": "code",
   "execution_count": 94,
   "metadata": {
    "id": "7gP0hDx8_G-8",
    "jupyter": {
     "outputs_hidden": false
    },
    "outputId": "daaff1d3-a9b4-4ba0-9852-5d28bc591984"
   },
   "outputs": [
    {
     "data": {
      "text/plain": [
       "dict_keys([0.5, 2, 4, 7, 15])"
      ]
     },
     "execution_count": 94,
     "metadata": {},
     "output_type": "execute_result"
    }
   ],
   "source": [
    "data.keys()"
   ]
  },
  {
   "cell_type": "markdown",
   "metadata": {
    "id": "29jcxJhc_G-9"
   },
   "source": [
    "**Q: Draw histogram using this data.** Useful query: [Google search: matplotlib histogram pre-counted](https://www.google.com/search?client=safari&rls=en&q=matplotlib+histogram+already+counted&ie=UTF-8&oe=UTF-8#q=matplotlib+histogram+pre-counted)"
   ]
  },
  {
   "cell_type": "code",
   "execution_count": 95,
   "metadata": {
    "id": "QVvYy95b_G-9",
    "jupyter": {
     "outputs_hidden": false
    },
    "outputId": "b48aa7c4-f423-45a4-a8c1-32178eda04cb"
   },
   "outputs": [
    {
     "data": {
      "text/plain": [
       "(array([4300., 6900., 4900., 2000., 2100.]),\n",
       " array([ 0,  1,  3,  5, 10, 24]),\n",
       " <BarContainer object of 5 artists>)"
      ]
     },
     "execution_count": 95,
     "metadata": {},
     "output_type": "execute_result"
    },
    {
     "data": {
      "image/png": "[encoded data removed]",
      "text/plain": [
       "<Figure size 432x288 with 1 Axes>"
      ]
     },
     "metadata": {
      "needs_background": "light"
     },
     "output_type": "display_data"
    }
   ],
   "source": [
    "# TODO: draw a histogram with weighted data. \n",
    "plt.xlabel(\"Hours\")\n",
    "plt.ylabel(\"Frequency\")\n",
    "val, weight = zip(*[(k, v) for k,v in data.items()])\n",
    "plt.hist(val, weights=weight, bins = bins)\n"
   ]
  },
  {
   "cell_type": "markdown",
   "metadata": {
    "id": "4upYTxA__G--"
   },
   "source": [
    "As you can see, the **default histogram does not normalize with binwidth and simply shows the counts**! This can be very misleading if you are working with variable bin width (e.g. logarithmic bins). So please be mindful about histograms when you work with variable bins. \n",
    "\n",
    "**Q: You can fix this by using the `density` option.**"
   ]
  },
  {
   "cell_type": "code",
   "execution_count": 96,
   "metadata": {
    "id": "scqFe0gC_G-_",
    "jupyter": {
     "outputs_hidden": false
    },
    "outputId": "5e311534-9f21-443e-9d9b-7ce214888274"
   },
   "outputs": [
    {
     "data": {
      "text/plain": [
       "(array([0.21287129, 0.17079208, 0.12128713, 0.01980198, 0.00742574]),\n",
       " array([ 0,  1,  3,  5, 10, 24]),\n",
       " <BarContainer object of 5 artists>)"
      ]
     },
     "execution_count": 96,
     "metadata": {},
     "output_type": "execute_result"
    },
    {
     "data": {
      "image/png": "[encoded data removed]",
      "text/plain": [
       "<Figure size 432x288 with 1 Axes>"
      ]
     },
     "metadata": {
      "needs_background": "light"
     },
     "output_type": "display_data"
    }
   ],
   "source": [
    "# TODO: fix it with density option. \n",
    "plt.xlabel(\"Density\")\n",
    "plt.ylabel(\"Frequency\")\n",
    "plt.hist(val, weights=weight, bins = bins, density = True)"
   ]
  },
  {
   "cell_type": "markdown",
   "metadata": {
    "id": "Y4vQlcG2_G-_"
   },
   "source": [
    "## Let's use an actual dataset"
   ]
  },
  {
   "cell_type": "code",
   "execution_count": 97,
   "metadata": {
    "id": "nTs4tXrh_G_A"
   },
   "outputs": [],
   "source": [
    "import vega_datasets"
   ]
  },
  {
   "cell_type": "code",
   "execution_count": 98,
   "metadata": {
    "id": "5W2VDMUw_O9_"
   },
   "outputs": [
    {
     "data": {
      "text/plain": [
       "'0.9.0'"
      ]
     },
     "execution_count": 98,
     "metadata": {},
     "output_type": "execute_result"
    }
   ],
   "source": [
    "vega_datasets.__version__"
   ]
  },
  {
   "cell_type": "markdown",
   "metadata": {
    "id": "2qrsL-7B_SIe"
   },
   "source": [
    "**Note:** Please check your `vega_datasets` version using `vega_datasets.__version__`. If you have a version lower than `0.9.0`, you will need to check the column names in `movies.head()` and update it accordingly in the code cells below."
   ]
  },
  {
   "cell_type": "code",
   "execution_count": 99,
   "metadata": {
    "id": "QAuKwXO-_G_A",
    "jupyter": {
     "outputs_hidden": false
    },
    "outputId": "087c0499-f1e1-4167-8ba6-b94347090067"
   },
   "outputs": [
    {
     "data": {
      "text/html": [
       "<div>\n",
       "<style scoped>\n",
       "    .dataframe tbody tr th:only-of-type {\n",
       "        vertical-align: middle;\n",
       "    }\n",
       "\n",
       "    .dataframe tbody tr th {\n",
       "        vertical-align: top;\n",
       "    }\n",
       "\n",
       "    .dataframe thead th {\n",
       "        text-align: right;\n",
       "    }\n",
       "</style>\n",
       "<table border=\"1\" class=\"dataframe\">\n",
       "  <thead>\n",
       "    <tr style=\"text-align: right;\">\n",
       "      <th></th>\n",
       "      <th>Title</th>\n",
       "      <th>US_Gross</th>\n",
       "      <th>Worldwide_Gross</th>\n",
       "      <th>US_DVD_Sales</th>\n",
       "      <th>Production_Budget</th>\n",
       "      <th>Release_Date</th>\n",
       "      <th>MPAA_Rating</th>\n",
       "      <th>Running_Time_min</th>\n",
       "      <th>Distributor</th>\n",
       "      <th>Source</th>\n",
       "      <th>Major_Genre</th>\n",
       "      <th>Creative_Type</th>\n",
       "      <th>Director</th>\n",
       "      <th>Rotten_Tomatoes_Rating</th>\n",
       "      <th>IMDB_Rating</th>\n",
       "      <th>IMDB_Votes</th>\n",
       "    </tr>\n",
       "  </thead>\n",
       "  <tbody>\n",
       "    <tr>\n",
       "      <th>0</th>\n",
       "      <td>The Land Girls</td>\n",
       "      <td>146083.0</td>\n",
       "      <td>146083.0</td>\n",
       "      <td>NaN</td>\n",
       "      <td>8000000.0</td>\n",
       "      <td>Jun 12 1998</td>\n",
       "      <td>R</td>\n",
       "      <td>NaN</td>\n",
       "      <td>Gramercy</td>\n",
       "      <td>None</td>\n",
       "      <td>None</td>\n",
       "      <td>None</td>\n",
       "      <td>None</td>\n",
       "      <td>NaN</td>\n",
       "      <td>6.1</td>\n",
       "      <td>1071.0</td>\n",
       "    </tr>\n",
       "    <tr>\n",
       "      <th>1</th>\n",
       "      <td>First Love, Last Rites</td>\n",
       "      <td>10876.0</td>\n",
       "      <td>10876.0</td>\n",
       "      <td>NaN</td>\n",
       "      <td>300000.0</td>\n",
       "      <td>Aug 07 1998</td>\n",
       "      <td>R</td>\n",
       "      <td>NaN</td>\n",
       "      <td>Strand</td>\n",
       "      <td>None</td>\n",
       "      <td>Drama</td>\n",
       "      <td>None</td>\n",
       "      <td>None</td>\n",
       "      <td>NaN</td>\n",
       "      <td>6.9</td>\n",
       "      <td>207.0</td>\n",
       "    </tr>\n",
       "    <tr>\n",
       "      <th>2</th>\n",
       "      <td>I Married a Strange Person</td>\n",
       "      <td>203134.0</td>\n",
       "      <td>203134.0</td>\n",
       "      <td>NaN</td>\n",
       "      <td>250000.0</td>\n",
       "      <td>Aug 28 1998</td>\n",
       "      <td>None</td>\n",
       "      <td>NaN</td>\n",
       "      <td>Lionsgate</td>\n",
       "      <td>None</td>\n",
       "      <td>Comedy</td>\n",
       "      <td>None</td>\n",
       "      <td>None</td>\n",
       "      <td>NaN</td>\n",
       "      <td>6.8</td>\n",
       "      <td>865.0</td>\n",
       "    </tr>\n",
       "    <tr>\n",
       "      <th>3</th>\n",
       "      <td>Let's Talk About Sex</td>\n",
       "      <td>373615.0</td>\n",
       "      <td>373615.0</td>\n",
       "      <td>NaN</td>\n",
       "      <td>300000.0</td>\n",
       "      <td>Sep 11 1998</td>\n",
       "      <td>None</td>\n",
       "      <td>NaN</td>\n",
       "      <td>Fine Line</td>\n",
       "      <td>None</td>\n",
       "      <td>Comedy</td>\n",
       "      <td>None</td>\n",
       "      <td>None</td>\n",
       "      <td>13.0</td>\n",
       "      <td>NaN</td>\n",
       "      <td>NaN</td>\n",
       "    </tr>\n",
       "    <tr>\n",
       "      <th>4</th>\n",
       "      <td>Slam</td>\n",
       "      <td>1009819.0</td>\n",
       "      <td>1087521.0</td>\n",
       "      <td>NaN</td>\n",
       "      <td>1000000.0</td>\n",
       "      <td>Oct 09 1998</td>\n",
       "      <td>R</td>\n",
       "      <td>NaN</td>\n",
       "      <td>Trimark</td>\n",
       "      <td>Original Screenplay</td>\n",
       "      <td>Drama</td>\n",
       "      <td>Contemporary Fiction</td>\n",
       "      <td>None</td>\n",
       "      <td>62.0</td>\n",
       "      <td>3.4</td>\n",
       "      <td>165.0</td>\n",
       "    </tr>\n",
       "  </tbody>\n",
       "</table>\n",
       "</div>"
      ],
      "text/plain": [
       "                        Title   US_Gross  Worldwide_Gross  US_DVD_Sales  \\\n",
       "0              The Land Girls   146083.0         146083.0           NaN   \n",
       "1      First Love, Last Rites    10876.0          10876.0           NaN   \n",
       "2  I Married a Strange Person   203134.0         203134.0           NaN   \n",
       "3        Let's Talk About Sex   373615.0         373615.0           NaN   \n",
       "4                        Slam  1009819.0        1087521.0           NaN   \n",
       "\n",
       "   Production_Budget Release_Date MPAA_Rating  Running_Time_min Distributor  \\\n",
       "0          8000000.0  Jun 12 1998           R               NaN    Gramercy   \n",
       "1           300000.0  Aug 07 1998           R               NaN      Strand   \n",
       "2           250000.0  Aug 28 1998        None               NaN   Lionsgate   \n",
       "3           300000.0  Sep 11 1998        None               NaN   Fine Line   \n",
       "4          1000000.0  Oct 09 1998           R               NaN     Trimark   \n",
       "\n",
       "                Source Major_Genre         Creative_Type Director  \\\n",
       "0                 None        None                  None     None   \n",
       "1                 None       Drama                  None     None   \n",
       "2                 None      Comedy                  None     None   \n",
       "3                 None      Comedy                  None     None   \n",
       "4  Original Screenplay       Drama  Contemporary Fiction     None   \n",
       "\n",
       "   Rotten_Tomatoes_Rating  IMDB_Rating  IMDB_Votes  \n",
       "0                     NaN          6.1      1071.0  \n",
       "1                     NaN          6.9       207.0  \n",
       "2                     NaN          6.8       865.0  \n",
       "3                    13.0          NaN         NaN  \n",
       "4                    62.0          3.4       165.0  "
      ]
     },
     "execution_count": 99,
     "metadata": {},
     "output_type": "execute_result"
    }
   ],
   "source": [
    "movies = vega_datasets.data.movies()\n",
    "movies.head()"
   ]
  },
  {
   "cell_type": "markdown",
   "metadata": {
    "id": "SrNIv642_G_B"
   },
   "source": [
    "Let's plot the histogram of IMDB ratings. "
   ]
  },
  {
   "cell_type": "code",
   "execution_count": 100,
   "metadata": {
    "id": "bWFmgyf6_G_B",
    "jupyter": {
     "outputs_hidden": false
    },
    "outputId": "364d0d2d-9fe2-4bb1-e889-47714ca7576a"
   },
   "outputs": [
    {
     "data": {
      "image/png": "[encoded data removed]",
      "text/plain": [
       "<Figure size 432x288 with 1 Axes>"
      ]
     },
     "metadata": {
      "needs_background": "light"
     },
     "output_type": "display_data"
    }
   ],
   "source": [
    "try:\n",
    "    plt.hist(movies['IMDB_Rating'])\n",
    "except KeyError as e:\n",
    "    print(\"movies has given KeyError: \", str(e))"
   ]
  },
  {
   "cell_type": "markdown",
   "metadata": {
    "id": "xq651UDL_G_C"
   },
   "source": [
    "Did you get an error or a warning? What's going on? \n",
    "\n",
    "The problem is that the column contains `NaN` (Not a Number) values, which represent missing data points. The following command check whether each value is a `NaN` and returns the result. "
   ]
  },
  {
   "cell_type": "code",
   "execution_count": 101,
   "metadata": {
    "id": "l-bbby0r_G_C",
    "jupyter": {
     "outputs_hidden": false
    },
    "outputId": "db24a93e-5e7f-440c-bd0e-2a8c5a197a13"
   },
   "outputs": [
    {
     "data": {
      "text/plain": [
       "0       False\n",
       "1       False\n",
       "2       False\n",
       "3        True\n",
       "4       False\n",
       "        ...  \n",
       "3196    False\n",
       "3197     True\n",
       "3198    False\n",
       "3199    False\n",
       "3200    False\n",
       "Name: IMDB_Rating, Length: 3201, dtype: bool"
      ]
     },
     "execution_count": 101,
     "metadata": {},
     "output_type": "execute_result"
    }
   ],
   "source": [
    "movies['IMDB_Rating'].isna()"
   ]
  },
  {
   "cell_type": "markdown",
   "metadata": {
    "id": "5KArMNuy_G_D"
   },
   "source": [
    "As you can see there are a bunch of missing rows. You can count them. "
   ]
  },
  {
   "cell_type": "code",
   "execution_count": 102,
   "metadata": {
    "id": "NLIOP85J_G_D",
    "jupyter": {
     "outputs_hidden": false
    },
    "outputId": "d39e0066-8ce3-43da-8643-197397c8573d"
   },
   "outputs": [
    {
     "data": {
      "text/plain": [
       "213"
      ]
     },
     "execution_count": 102,
     "metadata": {},
     "output_type": "execute_result"
    }
   ],
   "source": [
    "sum(movies['IMDB_Rating'].isna())"
   ]
  },
  {
   "cell_type": "markdown",
   "metadata": {
    "id": "HNl9DzI8_G_D"
   },
   "source": [
    "or drop them. "
   ]
  },
  {
   "cell_type": "code",
   "execution_count": 103,
   "metadata": {
    "id": "fRcgNczJ_G_E",
    "jupyter": {
     "outputs_hidden": false
    },
    "outputId": "985f5bca-2af6-4435-cb01-8f3607cd8892"
   },
   "outputs": [
    {
     "data": {
      "text/plain": [
       "2988"
      ]
     },
     "execution_count": 103,
     "metadata": {},
     "output_type": "execute_result"
    }
   ],
   "source": [
    "IMDB_ratings_nan_dropped = movies['IMDB_Rating'].dropna()\n",
    "len(IMDB_ratings_nan_dropped)"
   ]
  },
  {
   "cell_type": "code",
   "execution_count": 104,
   "metadata": {
    "id": "IwHSLkO-_G_E",
    "jupyter": {
     "outputs_hidden": false
    },
    "outputId": "a1e1bec0-7410-4c14-94c8-717b82a09fcc"
   },
   "outputs": [
    {
     "data": {
      "text/plain": [
       "3201"
      ]
     },
     "execution_count": 104,
     "metadata": {},
     "output_type": "execute_result"
    }
   ],
   "source": [
    "213 + 2988"
   ]
  },
  {
   "cell_type": "markdown",
   "metadata": {
    "id": "ilwIh89N_G_F"
   },
   "source": [
    "The `dropna` can be applied to the dataframe too. \n",
    "\n",
    "**Q: drop rows from `movies` dataframe where either `IMDB_Rating` or `IMDB_Votes` is `NaN`.**"
   ]
  },
  {
   "cell_type": "code",
   "execution_count": 105,
   "metadata": {
    "id": "-3lfyoBg_G_F"
   },
   "outputs": [],
   "source": [
    "# TODO\n",
    "movies.dropna(subset=['IMDB_Rating', 'IMDB_Votes'],inplace=True)"
   ]
  },
  {
   "cell_type": "code",
   "execution_count": 106,
   "metadata": {
    "id": "fDbetoUi_G_F",
    "jupyter": {
     "outputs_hidden": false
    },
    "outputId": "7280693c-567c-4c0e-a181-5a742588907f"
   },
   "outputs": [
    {
     "name": "stdout",
     "output_type": "stream",
     "text": [
      "0 0\n"
     ]
    }
   ],
   "source": [
    "# Both should be zero. \n",
    "print(sum(movies['IMDB_Rating'].isna()), sum(movies['IMDB_Votes'].isna()))"
   ]
  },
  {
   "cell_type": "markdown",
   "metadata": {
    "id": "ce-ZFHwu_G_G"
   },
   "source": [
    "How does `matplotlib` decides the bins? Actually `matplotlib`'s `hist` function uses `numpy`'s `histogram` function under the hood. "
   ]
  },
  {
   "cell_type": "markdown",
   "metadata": {
    "id": "zOm7ESwb_G_G"
   },
   "source": [
    "**Q: Plot the histogram of movie ratings (`IMDB_Rating`) using the `plt.hist()` function.**"
   ]
  },
  {
   "cell_type": "code",
   "execution_count": 107,
   "metadata": {
    "id": "UBp4ZGKW_G_H",
    "jupyter": {
     "outputs_hidden": false
    },
    "outputId": "aca207de-0d5c-4858-feb6-72855368ac02"
   },
   "outputs": [
    {
     "data": {
      "text/plain": [
       "(array([  9.,  39.,  76., 133., 293., 599., 784., 684., 323.,  48.]),\n",
       " array([1.4 , 2.18, 2.96, 3.74, 4.52, 5.3 , 6.08, 6.86, 7.64, 8.42, 9.2 ]),\n",
       " <BarContainer object of 10 artists>)"
      ]
     },
     "execution_count": 107,
     "metadata": {},
     "output_type": "execute_result"
    },
    {
     "data": {
      "image/png": "[encoded data removed]",
      "text/plain": [
       "<Figure size 432x288 with 1 Axes>"
      ]
     },
     "metadata": {
      "needs_background": "light"
     },
     "output_type": "display_data"
    }
   ],
   "source": [
    "# TODO\n",
    "plt.hist(movies.IMDB_Rating)"
   ]
  },
  {
   "cell_type": "markdown",
   "metadata": {
    "id": "WKd-vsn6_G_H"
   },
   "source": [
    "Have you noticed that this function returns three objects? Take a look at the documentation [here](https://matplotlib.org/stable/api/_as_gen/matplotlib.pyplot.hist.html?highlight=hist#matplotlib.pyplot.hist) to figure out what they are.\n",
    "\n",
    "To get the returned three objects:"
   ]
  },
  {
   "cell_type": "code",
   "execution_count": 108,
   "metadata": {
    "id": "wECMi8FE_G_I",
    "jupyter": {
     "outputs_hidden": false
    },
    "outputId": "b6550d5f-e3ae-4ff0-bd84-7bb5476ecc57"
   },
   "outputs": [
    {
     "name": "stdout",
     "output_type": "stream",
     "text": [
      "[  9.  39.  76. 133. 293. 599. 784. 684. 323.  48.]\n",
      "[1.4  2.18 2.96 3.74 4.52 5.3  6.08 6.86 7.64 8.42 9.2 ]\n"
     ]
    },
    {
     "data": {
      "image/png": "[encoded data removed]",
      "text/plain": [
       "<Figure size 432x288 with 1 Axes>"
      ]
     },
     "metadata": {
      "needs_background": "light"
     },
     "output_type": "display_data"
    }
   ],
   "source": [
    "# TODO: Replace dummy value of below variables with actual values.\n",
    "n_raw, bins_raw, patches = plt.hist(movies.IMDB_Rating)\n",
    "print(n_raw)\n",
    "print(bins_raw)"
   ]
  },
  {
   "cell_type": "markdown",
   "metadata": {
    "id": "l_RFSwpF_G_I"
   },
   "source": [
    "Here, `n_raw` contains the values of histograms, i.e., the number of movies in each of the 10 bins. Thus, the sum of the elements in `n_raw` should be equal to the total number of movies. \n",
    "\n",
    "**Q: Test whether the sum of values in `n_raw` is equal to the number of movies in the `movies` dataset**"
   ]
  },
  {
   "cell_type": "code",
   "execution_count": 109,
   "metadata": {
    "id": "HF6S_I7l_G_I",
    "jupyter": {
     "outputs_hidden": false
    },
    "outputId": "3674e82a-f322-4111-c820-b59f2bf75c8d"
   },
   "outputs": [
    {
     "name": "stdout",
     "output_type": "stream",
     "text": [
      "2988\n",
      "2988\n",
      "True\n"
     ]
    }
   ],
   "source": [
    "# TODO: test whether the sum of the numbers in n_raw is equal to the number of movies. \n",
    "print(int(sum(n_raw)))\n",
    "print(len(movies))\n",
    "\n",
    "print(int(sum(n_raw)) == len(movies))"
   ]
  },
  {
   "cell_type": "markdown",
   "metadata": {
    "id": "5ROhZszP_G_J"
   },
   "source": [
    "The second returned object (`bins_raw`) is a list containing the edges of the 10 bins: the first bin is \\[1.4, 2.18\\], the second \\[2.18, 2.96\\], and so on. What's the width of the bins?"
   ]
  },
  {
   "cell_type": "code",
   "execution_count": 110,
   "metadata": {
    "id": "8TtA_llF_G_J",
    "jupyter": {
     "outputs_hidden": false
    },
    "outputId": "fb8ac5b7-0560-4963-9bf6-6bbf6502f1c3"
   },
   "outputs": [
    {
     "data": {
      "text/plain": [
       "array([0.78, 0.78, 0.78, 0.78, 0.78, 0.78, 0.78, 0.78, 0.78, 0.78])"
      ]
     },
     "execution_count": 110,
     "metadata": {},
     "output_type": "execute_result"
    }
   ],
   "source": [
    "np.diff(bins_raw)"
   ]
  },
  {
   "cell_type": "markdown",
   "metadata": {
    "id": "wr6fjCqJ_G_J"
   },
   "source": [
    "The width is same as the maximum value minus minimum value, divided by 10. "
   ]
  },
  {
   "cell_type": "code",
   "execution_count": 111,
   "metadata": {
    "id": "nDsPLuhs_G_K",
    "jupyter": {
     "outputs_hidden": false
    },
    "outputId": "8e2a4473-35d8-4bd0-9595-11a3075f174e"
   },
   "outputs": [
    {
     "name": "stdout",
     "output_type": "stream",
     "text": [
      "1.4 9.2\n",
      "0.7799999999999999\n"
     ]
    }
   ],
   "source": [
    "min_rating = min(movies['IMDB_Rating'])\n",
    "max_rating = max(movies['IMDB_Rating'])\n",
    "print(min_rating, max_rating)\n",
    "print( (max_rating-min_rating) / 10 )"
   ]
  },
  {
   "cell_type": "markdown",
   "metadata": {
    "id": "9-kP893P_G_K"
   },
   "source": [
    "Now, let's plot a normalized (density) histogram. "
   ]
  },
  {
   "cell_type": "code",
   "execution_count": 112,
   "metadata": {
    "id": "Mkv5LHGH_G_K",
    "jupyter": {
     "outputs_hidden": false
    },
    "outputId": "3fd60282-ab9d-4ff4-8477-7b46bd5694e8"
   },
   "outputs": [
    {
     "name": "stdout",
     "output_type": "stream",
     "text": [
      "[0.0038616  0.0167336  0.03260907 0.05706587 0.12571654 0.25701095\n",
      " 0.33638829 0.29348162 0.13858854 0.0205952 ]\n",
      "[1.4  2.18 2.96 3.74 4.52 5.3  6.08 6.86 7.64 8.42 9.2 ]\n"
     ]
    },
    {
     "data": {
      "image/png": "[encoded data removed]",
      "text/plain": [
       "<Figure size 432x288 with 1 Axes>"
      ]
     },
     "metadata": {
      "needs_background": "light"
     },
     "output_type": "display_data"
    }
   ],
   "source": [
    "n, bins, patches = plt.hist(movies['IMDB_Rating'], density=True)\n",
    "print(n)\n",
    "print(bins)"
   ]
  },
  {
   "cell_type": "markdown",
   "metadata": {
    "id": "zvztNYNs_G_L"
   },
   "source": [
    "The ten bins do not change. But now `n` represents the density of the data inside each bin. In other words, the sum of the area of each bar will equal to 1. \n",
    "\n",
    "**Q: Can you verify this?**\n",
    "\n",
    "Hint: the area of each bar is calculated as height * width. You may get something like 0.99999999999999978 instead of 1."
   ]
  },
  {
   "cell_type": "code",
   "execution_count": 113,
   "metadata": {
    "id": "Ldt8Eoj8_G_L",
    "jupyter": {
     "outputs_hidden": false
    },
    "outputId": "f2b1095b-7b04-4e88-f126-b0fc6a70a2b8"
   },
   "outputs": [
    {
     "name": "stdout",
     "output_type": "stream",
     "text": [
      "1.0\n"
     ]
    }
   ],
   "source": [
    "# TODO\n",
    "sum = 0\n",
    "for i in range(10):\n",
    "    sum += n[i] * (bins[i+1]-bins[i])\n",
    "\n",
    "print(sum)"
   ]
  },
  {
   "cell_type": "markdown",
   "metadata": {
    "id": "pQXojeqp_G_L"
   },
   "source": [
    "Anyway, these data generated from the `hist` function is calculated from `numpy`'s `histogram` function. https://docs.scipy.org/doc/numpy/reference/generated/numpy.histogram.html \n",
    "\n",
    "Note that the result of `np.histogram()` is same as that of `plt.hist()`. "
   ]
  },
  {
   "cell_type": "code",
   "execution_count": 114,
   "metadata": {
    "execution": {
     "iopub.execute_input": "2020-06-14T19:57:14.303Z",
     "iopub.status.busy": "2020-06-14T19:57:14.287Z",
     "iopub.status.idle": "2020-06-14T19:57:14.334Z",
     "shell.execute_reply": "2020-06-14T19:57:14.349Z"
    },
    "id": "NDSkwiqc_G_M",
    "jupyter": {
     "outputs_hidden": false
    },
    "outputId": "156c2de8-8522-45bc-cca1-aade8503585d"
   },
   "outputs": [],
   "source": [
    "# TODO: If below code gives ValueError with NaN, then there are still missing values in IMDB_Rating and you must remove it.\n",
    "try:\n",
    "    np.histogram(movies['IMDB_Rating'])\n",
    "except ValueError as e:\n",
    "    print(\"Resulted in ValueError:\", str(e))"
   ]
  },
  {
   "cell_type": "code",
   "execution_count": 115,
   "metadata": {
    "id": "5hU0Bt2a_G_M",
    "jupyter": {
     "outputs_hidden": false
    },
    "outputId": "467ab41d-1a19-49e3-ba78-a16a4755ba4b"
   },
   "outputs": [
    {
     "data": {
      "text/plain": [
       "(array([  9.,  39.,  76., 133., 293., 599., 784., 684., 323.,  48.]),\n",
       " array([1.4 , 2.18, 2.96, 3.74, 4.52, 5.3 , 6.08, 6.86, 7.64, 8.42, 9.2 ]),\n",
       " <BarContainer object of 10 artists>)"
      ]
     },
     "execution_count": 115,
     "metadata": {},
     "output_type": "execute_result"
    },
    {
     "data": {
      "image/png": "[encoded data removed]",
      "text/plain": [
       "<Figure size 432x288 with 1 Axes>"
      ]
     },
     "metadata": {
      "needs_background": "light"
     },
     "output_type": "display_data"
    }
   ],
   "source": [
    "plt.hist(movies['IMDB_Rating'])"
   ]
  },
  {
   "cell_type": "markdown",
   "metadata": {
    "id": "CeFQkji4_G_M"
   },
   "source": [
    "If you look at the documentation, you can see that `numpy` uses simply 10 as the default number of bins. But you can set it manually or set it to be `auto`, which is the \"Maximum of the `sturges` and `fd` estimators.\". Let's try this `auto` option. "
   ]
  },
  {
   "cell_type": "code",
   "execution_count": 116,
   "metadata": {
    "id": "ZRD_UKiD_G_N",
    "jupyter": {
     "outputs_hidden": false
    },
    "outputId": "f664ee31-d2de-46c2-d30c-89b58992a785"
   },
   "outputs": [
    {
     "data": {
      "image/png": "[encoded data removed]",
      "text/plain": [
       "<Figure size 432x288 with 1 Axes>"
      ]
     },
     "metadata": {
      "needs_background": "light"
     },
     "output_type": "display_data"
    }
   ],
   "source": [
    "_ = plt.hist(movies['IMDB_Rating'], bins='auto')"
   ]
  },
  {
   "cell_type": "markdown",
   "metadata": {
    "id": "GwPlFvHn_G_N"
   },
   "source": [
    "## Consequences of the binning parameter\n",
    "\n",
    "Let's explore the effect of bin size using small multiples. In `matplotlib`, you can use [subplot](https://www.google.com/search?client=safari&rls=en&q=matplotlib+subplot&ie=UTF-8&oe=UTF-8) to put multiple plots into a single figure. \n",
    "\n",
    "For instance, you can do something like:"
   ]
  },
  {
   "cell_type": "code",
   "execution_count": 117,
   "metadata": {
    "id": "hDnPdqBU_G_N",
    "jupyter": {
     "outputs_hidden": false
    },
    "outputId": "e20b169b-58e0-4bc3-96dd-7bceced52569"
   },
   "outputs": [
    {
     "data": {
      "text/plain": [
       "<AxesSubplot:>"
      ]
     },
     "execution_count": 117,
     "metadata": {},
     "output_type": "execute_result"
    },
    {
     "data": {
      "image/png": "[encoded data removed]",
      "text/plain": [
       "<Figure size 720x360 with 2 Axes>"
      ]
     },
     "metadata": {
      "needs_background": "light"
     },
     "output_type": "display_data"
    }
   ],
   "source": [
    "plt.figure(figsize=(10,5))\n",
    "plt.subplot(1,2,1)\n",
    "movies['IMDB_Rating'].hist(bins=3)\n",
    "plt.subplot(1,2,2)\n",
    "movies['IMDB_Rating'].hist(bins=20)"
   ]
  },
  {
   "cell_type": "markdown",
   "metadata": {
    "id": "7uzX4QWE_G_O"
   },
   "source": [
    "What does the argument in `plt.subplot(1,2,1)` mean? If you're not sure, check out: http://stackoverflow.com/questions/3584805/in-matplotlib-what-does-the-argument-mean-in-fig-add-subplot111\n",
    "\n",
    "**Q: create 8 subplots (2 rows and 4 columns) with the following `binsizes`.**"
   ]
  },
  {
   "cell_type": "code",
   "execution_count": 118,
   "metadata": {
    "id": "NbM-6DjA_G_O",
    "jupyter": {
     "outputs_hidden": false
    },
    "outputId": "d4276bd5-de15-4431-a2d8-e7336373709e"
   },
   "outputs": [
    {
     "data": {
      "text/plain": [
       "<AxesSubplot:>"
      ]
     },
     "execution_count": 118,
     "metadata": {},
     "output_type": "execute_result"
    },
    {
     "data": {
      "image/png": "[encoded data removed]",
      "text/plain": [
       "<Figure size 1296x720 with 8 Axes>"
      ]
     },
     "metadata": {
      "needs_background": "light"
     },
     "output_type": "display_data"
    }
   ],
   "source": [
    "nbins = [2, 3, 5, 10, 30, 40, 60, 100 ]\n",
    "figsize = (18, 10)\n",
    "\n",
    "# TODO\n",
    "plt.figure(figsize = figsize)\n",
    "\n",
    "plt.subplot(2,4,1)\n",
    "movies['IMDB_Rating'].hist(bins = nbins[0])\n",
    "\n",
    "plt.subplot(2,4,2)\n",
    "movies['IMDB_Rating'].hist(bins =nbins[1])\n",
    "\n",
    "plt.subplot(2,4,3)\n",
    "movies['IMDB_Rating'].hist(bins =nbins[2])\n",
    "\n",
    "plt.subplot(2,4,4)\n",
    "movies['IMDB_Rating'].hist(bins =nbins[3])\n",
    "\n",
    "plt.subplot(2,4,5)\n",
    "movies['IMDB_Rating'].hist(bins =nbins[4])\n",
    "\n",
    "plt.subplot(2,4,6)\n",
    "movies['IMDB_Rating'].hist(bins =nbins[5])\n",
    "\n",
    "plt.subplot(2,4,7)\n",
    "movies['IMDB_Rating'].hist(bins =nbins[6])\n",
    "\n",
    "plt.subplot(2,4,8)\n",
    "movies['IMDB_Rating'].hist(bins =nbins[7])"
   ]
  },
  {
   "cell_type": "markdown",
   "metadata": {
    "id": "4MUtaGwi_G_O"
   },
   "source": [
    "Do you see the issues with having too few bins or too many bins? In particular, do you notice weird patterns that emerge from `bins=30`? \n",
    "\n",
    "**Q: Can you guess why do you see such patterns? What are the peaks and what are the empty bars? What do they tell you about choosing the binsize in histograms?**"
   ]
  },
  {
   "cell_type": "code",
   "execution_count": 119,
   "metadata": {
    "id": "qIj9lKUM_G_P",
    "jupyter": {
     "outputs_hidden": false
    },
    "outputId": "5dae9680-092d-4992-f116-8d2c33a27b7c"
   },
   "outputs": [],
   "source": [
    "# TODO: Provide your answer and evidence here\n",
    "## We see such patterns because when we increase the number of bins, we get a lot of small intervals in the histogram and these\n",
    "## intervals have different counts. Peak indicates high count and empty bar indicated absense of any arting in that bin interval\n",
    "## The bin size depends on our data and the distribution, but from this particular example it is clear that the number of bins \n",
    "## should not exceed single digits. "
   ]
  },
  {
   "cell_type": "markdown",
   "metadata": {
    "id": "f_07JYIS_G_P"
   },
   "source": [
    "## Formulae for choosing the number of bins. \n",
    "\n",
    "We can manually choose the number of bins based on those formulae. "
   ]
  },
  {
   "cell_type": "code",
   "execution_count": 120,
   "metadata": {
    "id": "EFxa5Cwz_G_Q",
    "outputId": "99ee4e8d-011f-4ade-9bf3-0afda60017e7"
   },
   "outputs": [
    {
     "data": {
      "image/png": "[encoded data removed]",
      "text/plain": [
       "<Figure size 864x288 with 3 Axes>"
      ]
     },
     "metadata": {
      "needs_background": "light"
     },
     "output_type": "display_data"
    }
   ],
   "source": [
    "N = len(movies)\n",
    "\n",
    "plt.figure(figsize=(12,4))\n",
    "\n",
    "# Sqrt \n",
    "nbins = int(np.sqrt(N))\n",
    "\n",
    "plt.subplot(1,3,1)\n",
    "plt.title(\"SQRT, {} bins\".format(nbins))\n",
    "movies['IMDB_Rating'].hist(bins=nbins)\n",
    "\n",
    "# Sturge's formula\n",
    "nbins = int(np.ceil(np.log2(N) + 1))\n",
    "\n",
    "plt.subplot(1,3,2)\n",
    "plt.title(\"Sturge, {} bins\".format(nbins))\n",
    "movies['IMDB_Rating'].hist(bins=nbins)\n",
    "\n",
    "# Freedman-Diaconis\n",
    "# TODO: If below code gives ValueError with NaN, then there are still missing values in IMDB_Rating and you must remove it.\n",
    "try:\n",
    "    iqr = np.percentile(movies['IMDB_Rating'], 75) - np.percentile(movies['IMDB_Rating'], 25)\n",
    "    width = 2*iqr/np.power(N, 1/3)\n",
    "    nbins = int((max(movies['IMDB_Rating']) - min(movies['IMDB_Rating'])) / width)\n",
    "\n",
    "    plt.subplot(1,3,3)\n",
    "    plt.title(\"F-D, {} bins\".format(nbins))\n",
    "    movies['IMDB_Rating'].hist(bins=nbins)\n",
    "except ValueError as e:\n",
    "    print(\"Resulted in ValueError:\", str(e))"
   ]
  },
  {
   "cell_type": "markdown",
   "metadata": {
    "id": "x5pGenYF_G_Q"
   },
   "source": [
    "But we can also use built-in formulae too. Let's try all of them. "
   ]
  },
  {
   "cell_type": "code",
   "execution_count": 121,
   "metadata": {
    "id": "pyK-B5KN_G_R",
    "jupyter": {
     "outputs_hidden": false
    },
    "outputId": "1cc0db3e-afc2-441d-8676-a1211ed7ee4f"
   },
   "outputs": [
    {
     "data": {
      "text/plain": [
       "<AxesSubplot:>"
      ]
     },
     "execution_count": 121,
     "metadata": {},
     "output_type": "execute_result"
    },
    {
     "data": {
      "image/png": "[encoded data removed]",
      "text/plain": [
       "<Figure size 1440x288 with 6 Axes>"
      ]
     },
     "metadata": {
      "needs_background": "light"
     },
     "output_type": "display_data"
    }
   ],
   "source": [
    "plt.figure(figsize=(20,4))\n",
    "\n",
    "plt.subplot(161)\n",
    "movies['IMDB_Rating'].hist(bins='fd')\n",
    "\n",
    "plt.subplot(162)\n",
    "movies['IMDB_Rating'].hist(bins='doane')\n",
    "\n",
    "plt.subplot(163)\n",
    "movies['IMDB_Rating'].hist(bins='scott')\n",
    "\n",
    "plt.subplot(164)\n",
    "movies['IMDB_Rating'].hist(bins='rice')\n",
    "\n",
    "plt.subplot(165)\n",
    "movies['IMDB_Rating'].hist(bins='sturges')\n",
    "\n",
    "plt.subplot(166)\n",
    "movies['IMDB_Rating'].hist(bins='sqrt')"
   ]
  },
  {
   "cell_type": "markdown",
   "metadata": {
    "id": "pYAItQoA_G_R"
   },
   "source": [
    "Some are decent, but several of them tend to overestimate the good number of bins. As you have more data points, some of the formulae may overestimate the necessary number of bins. Particularly in our case, because of the precision issue, we shouldn't increase the number of bins too much."
   ]
  },
  {
   "cell_type": "markdown",
   "metadata": {
    "id": "0jf4KJxB_G_S"
   },
   "source": [
    "### Then, how should we choose the number of bins?"
   ]
  },
  {
   "cell_type": "markdown",
   "metadata": {
    "id": "2duwuNV5_G_S"
   },
   "source": [
    "So what's the conclusion? use Scott's rule or Sturges' formula? \n",
    "\n",
    "No, I think the take-away is that you **should understand how the inappropriate number of bins can mislead you** and you should **try multiple number of bins** to obtain the most accurate picture of the data. Although the 'default' may work in most cases, don't blindly trust it! Don't judge the distribution of a dataset based on a single histogram. Try multiple parameters to get the full picture!"
   ]
  },
  {
   "cell_type": "markdown",
   "metadata": {
    "id": "jUB_C-vo_G_S"
   },
   "source": [
    "## CDF (Cumulative distribution function)\n",
    "\n",
    "Drawing a CDF is easy. Because it's very common data visualization, histogram has an option called `cumulative`. "
   ]
  },
  {
   "cell_type": "code",
   "execution_count": 122,
   "metadata": {
    "id": "KuT78TG5_G_T",
    "jupyter": {
     "outputs_hidden": false
    },
    "outputId": "322ddcca-6288-4666-f841-c5722cce9cda"
   },
   "outputs": [
    {
     "data": {
      "text/plain": [
       "<AxesSubplot:>"
      ]
     },
     "execution_count": 122,
     "metadata": {},
     "output_type": "execute_result"
    },
    {
     "data": {
      "image/png": "[encoded data removed]",
      "text/plain": [
       "<Figure size 432x288 with 1 Axes>"
      ]
     },
     "metadata": {
      "needs_background": "light"
     },
     "output_type": "display_data"
    }
   ],
   "source": [
    "movies['IMDB_Rating'].hist(cumulative=True)"
   ]
  },
  {
   "cell_type": "markdown",
   "metadata": {
    "id": "S1ucXKzI_G_T"
   },
   "source": [
    "You can also combine with options such as `histtype` and `density`."
   ]
  },
  {
   "cell_type": "code",
   "execution_count": 123,
   "metadata": {
    "id": "FGB1nZqz_G_T",
    "jupyter": {
     "outputs_hidden": false
    },
    "outputId": "8a4624f2-2645-4241-eeed-fb27d627b64d"
   },
   "outputs": [
    {
     "data": {
      "text/plain": [
       "<AxesSubplot:>"
      ]
     },
     "execution_count": 123,
     "metadata": {},
     "output_type": "execute_result"
    },
    {
     "data": {
      "image/png": "[encoded data removed]",
      "text/plain": [
       "<Figure size 432x288 with 1 Axes>"
      ]
     },
     "metadata": {
      "needs_background": "light"
     },
     "output_type": "display_data"
    }
   ],
   "source": [
    "movies['IMDB_Rating'].hist(histtype='step', cumulative=True, density=True)"
   ]
  },
  {
   "cell_type": "markdown",
   "metadata": {
    "id": "Nfm50nqF_G_T"
   },
   "source": [
    "And increase the number of bins. "
   ]
  },
  {
   "cell_type": "code",
   "execution_count": 124,
   "metadata": {
    "id": "ZrMVUVmW_G_U",
    "jupyter": {
     "outputs_hidden": false
    },
    "outputId": "502f010c-1275-4675-8f3c-7cc2029fe4c8"
   },
   "outputs": [
    {
     "data": {
      "text/plain": [
       "<AxesSubplot:>"
      ]
     },
     "execution_count": 124,
     "metadata": {},
     "output_type": "execute_result"
    },
    {
     "data": {
      "image/png": "[encoded data removed]",
      "text/plain": [
       "<Figure size 432x288 with 1 Axes>"
      ]
     },
     "metadata": {
      "needs_background": "light"
     },
     "output_type": "display_data"
    }
   ],
   "source": [
    "movies['IMDB_Rating'].hist(cumulative=True, density=True, bins=1000)"
   ]
  },
  {
   "cell_type": "markdown",
   "metadata": {
    "id": "JrEXxI1Z_G_U"
   },
   "source": [
    "This method works fine. By increasing the number of bins, you can get a CDF in the resolution that you want. But let's also try it manually to better understand what's going on. First, we should sort all the values. "
   ]
  },
  {
   "cell_type": "code",
   "execution_count": 125,
   "metadata": {
    "id": "CVqSQmmU_G_U",
    "jupyter": {
     "outputs_hidden": false
    },
    "outputId": "6592daa4-0685-458d-ef00-83705f92b711"
   },
   "outputs": [
    {
     "data": {
      "text/plain": [
       "1247    1.4\n",
       "406     1.5\n",
       "1754    1.6\n",
       "1590    1.7\n",
       "1515    1.7\n",
       "Name: IMDB_Rating, dtype: float64"
      ]
     },
     "execution_count": 125,
     "metadata": {},
     "output_type": "execute_result"
    }
   ],
   "source": [
    "rating_sorted = movies['IMDB_Rating'].sort_values()\n",
    "rating_sorted.head()"
   ]
  },
  {
   "cell_type": "markdown",
   "metadata": {
    "id": "ucOJmOOZ_G_V"
   },
   "source": [
    "We need to know the number of data points, "
   ]
  },
  {
   "cell_type": "code",
   "execution_count": 126,
   "metadata": {
    "id": "zlkvZ-wx_G_V",
    "jupyter": {
     "outputs_hidden": false
    },
    "outputId": "70f5b6d8-4af8-4f48-e4eb-beba3279f2f9"
   },
   "outputs": [
    {
     "data": {
      "text/plain": [
       "2988"
      ]
     },
     "execution_count": 126,
     "metadata": {},
     "output_type": "execute_result"
    }
   ],
   "source": [
    "N = len(rating_sorted)\n",
    "N"
   ]
  },
  {
   "cell_type": "markdown",
   "metadata": {
    "id": "_iqJaMbJ_G_V"
   },
   "source": [
    "And I think this may be useful for you. "
   ]
  },
  {
   "cell_type": "code",
   "execution_count": 127,
   "metadata": {
    "id": "JSAwidf8_G_V",
    "jupyter": {
     "outputs_hidden": false
    },
    "outputId": "d72141bb-7cc6-43c9-c128-29d14e9f0ea0"
   },
   "outputs": [
    {
     "data": {
      "text/plain": [
       "array([0.02, 0.04, 0.06, 0.08, 0.1 , 0.12, 0.14, 0.16, 0.18, 0.2 , 0.22,\n",
       "       0.24, 0.26, 0.28, 0.3 , 0.32, 0.34, 0.36, 0.38, 0.4 , 0.42, 0.44,\n",
       "       0.46, 0.48, 0.5 , 0.52, 0.54, 0.56, 0.58, 0.6 , 0.62, 0.64, 0.66,\n",
       "       0.68, 0.7 , 0.72, 0.74, 0.76, 0.78, 0.8 , 0.82, 0.84, 0.86, 0.88,\n",
       "       0.9 , 0.92, 0.94, 0.96, 0.98, 1.  ])"
      ]
     },
     "execution_count": 127,
     "metadata": {},
     "output_type": "execute_result"
    }
   ],
   "source": [
    "n = 50\n",
    "np.linspace(1/n, 1.0, num=n)"
   ]
  },
  {
   "cell_type": "markdown",
   "metadata": {
    "id": "HVnvIXbH_G_W"
   },
   "source": [
    "**Q: now you're ready to draw a proper CDF. Draw the CDF plot of this data.** "
   ]
  },
  {
   "cell_type": "code",
   "execution_count": 128,
   "metadata": {
    "id": "zRw7i6Mc_G_W",
    "jupyter": {
     "outputs_hidden": false
    },
    "outputId": "a0b7cb88-1f5e-404b-c5d0-f96bfb3211a1"
   },
   "outputs": [
    {
     "data": {
      "text/plain": [
       "[<matplotlib.lines.Line2D at 0x257e4e28340>]"
      ]
     },
     "execution_count": 128,
     "metadata": {},
     "output_type": "execute_result"
    },
    {
     "data": {
      "image/png": "[encoded data removed]",
      "text/plain": [
       "<Figure size 432x288 with 1 Axes>"
      ]
     },
     "metadata": {
      "needs_background": "light"
     },
     "output_type": "display_data"
    }
   ],
   "source": [
    "# Implement\n",
    "plt.xlabel(\"IMDB Rating\")\n",
    "plt.ylabel(\"CDF\")\n",
    "plt.plot(rating_sorted,np.linspace(1/n, 1.0, num=2988))"
   ]
  },
  {
   "cell_type": "markdown",
   "metadata": {
    "id": "f8SdTs86_G_W"
   },
   "source": [
    "## A bit more histogram with altair\n",
    "\n",
    "As you may remember, you can get a pandas dataframe from `vega_datasets` package and use it to create visualizations. But, if you use `altair`, you can simply pass the URL instead of the actual data. "
   ]
  },
  {
   "cell_type": "code",
   "execution_count": 129,
   "metadata": {
    "id": "xk7zzU7j_G_X",
    "jupyter": {
     "outputs_hidden": false
    },
    "outputId": "ea8d77bb-ca3c-430d-8cf0-d93cc127d53e"
   },
   "outputs": [
    {
     "data": {
      "text/plain": [
       "'https://cdn.jsdelivr.net/npm/vega-datasets@v1.29.0/data/movies.json'"
      ]
     },
     "execution_count": 129,
     "metadata": {},
     "output_type": "execute_result"
    }
   ],
   "source": [
    "vega_datasets.data.movies.url"
   ]
  },
  {
   "cell_type": "code",
   "execution_count": 130,
   "metadata": {
    "id": "yd9bwymv_G_X",
    "jupyter": {
     "outputs_hidden": false
    }
   },
   "outputs": [
    {
     "data": {
      "text/plain": [
       "RendererRegistry.enable('default')"
      ]
     },
     "execution_count": 130,
     "metadata": {},
     "output_type": "execute_result"
    }
   ],
   "source": [
    "# Choose based on your environment\n",
    "#alt.renderers.enable('notebook')\n",
    "#alt.renderers.enable('jupyterlab')\n",
    "alt.renderers.enable('default')"
   ]
  },
  {
   "cell_type": "markdown",
   "metadata": {
    "id": "iin4Nh4__G_Y"
   },
   "source": [
    "As mentioned before, in `altair` histogram is not special. It is just a plot that use bars (`mark_bar()`) where X axis is defined by `IMDB_Rating` with bins (`bin=True`), and Y axis is defined by `count()` aggregation function. "
   ]
  },
  {
   "cell_type": "code",
   "execution_count": 131,
   "metadata": {
    "id": "8ydZKh85_G_Y",
    "jupyter": {
     "outputs_hidden": false
    },
    "outputId": "5fa2974e-95c7-4995-9181-618f8b060bc6"
   },
   "outputs": [
    {
     "data": {
      "text/html": [
       "\n",
       "<div id=\"altair-viz-2ddf80cd7fd845b28d25240368df19ee\"></div>\n",
       "<script type=\"text/javascript\">\n",
       "  var VEGA_DEBUG = (typeof VEGA_DEBUG == \"undefined\") ? {} : VEGA_DEBUG;\n",
       "  (function(spec, embedOpt){\n",
       "    let outputDiv = document.currentScript.previousElementSibling;\n",
       "    if (outputDiv.id !== \"altair-viz-2ddf80cd7fd845b28d25240368df19ee\") {\n",
       "      outputDiv = document.getElementById(\"altair-viz-2ddf80cd7fd845b28d25240368df19ee\");\n",
       "    }\n",
       "    const paths = {\n",
       "      \"vega\": \"https://cdn.jsdelivr.net/npm//vega@5?noext\",\n",
       "      \"vega-lib\": \"https://cdn.jsdelivr.net/npm//vega-lib?noext\",\n",
       "      \"vega-lite\": \"https://cdn.jsdelivr.net/npm//vega-lite@4.17.0?noext\",\n",
       "      \"vega-embed\": \"https://cdn.jsdelivr.net/npm//vega-embed@6?noext\",\n",
       "    };\n",
       "\n",
       "    function maybeLoadScript(lib, version) {\n",
       "      var key = `${lib.replace(\"-\", \"\")}_version`;\n",
       "      return (VEGA_DEBUG[key] == version) ?\n",
       "        Promise.resolve(paths[lib]) :\n",
       "        new Promise(function(resolve, reject) {\n",
       "          var s = document.createElement('script');\n",
       "          document.getElementsByTagName(\"head\")[0].appendChild(s);\n",
       "          s.async = true;\n",
       "          s.onload = () => {\n",
       "            VEGA_DEBUG[key] = version;\n",
       "            return resolve(paths[lib]);\n",
       "          };\n",
       "          s.onerror = () => reject(`Error loading script: ${paths[lib]}`);\n",
       "          s.src = paths[lib];\n",
       "        });\n",
       "    }\n",
       "\n",
       "    function showError(err) {\n",
       "      outputDiv.innerHTML = `<div class=\"error\" style=\"color:red;\">${err}</div>`;\n",
       "      throw err;\n",
       "    }\n",
       "\n",
       "    function displayChart(vegaEmbed) {\n",
       "      vegaEmbed(outputDiv, spec, embedOpt)\n",
       "        .catch(err => showError(`Javascript Error: ${err.message}<br>This usually means there's a typo in your chart specification. See the javascript console for the full traceback.`));\n",
       "    }\n",
       "\n",
       "    if(typeof define === \"function\" && define.amd) {\n",
       "      requirejs.config({paths});\n",
       "      require([\"vega-embed\"], displayChart, err => showError(`Error loading script: ${err.message}`));\n",
       "    } else {\n",
       "      maybeLoadScript(\"vega\", \"5\")\n",
       "        .then(() => maybeLoadScript(\"vega-lite\", \"4.17.0\"))\n",
       "        .then(() => maybeLoadScript(\"vega-embed\", \"6\"))\n",
       "        .catch(showError)\n",
       "        .then(() => displayChart(vegaEmbed));\n",
       "    }\n",
       "  })({\"config\": {\"view\": {\"continuousWidth\": 400, \"continuousHeight\": 300}}, \"data\": {\"url\": \"https://cdn.jsdelivr.net/npm/vega-datasets@v1.29.0/data/movies.json\"}, \"mark\": \"bar\", \"encoding\": {\"x\": {\"bin\": true, \"field\": \"IMDB_Rating\", \"type\": \"quantitative\"}, \"y\": {\"aggregate\": \"count\", \"type\": \"quantitative\"}}, \"$schema\": \"https://vega.github.io/schema/vega-lite/v4.17.0.json\"}, {\"mode\": \"vega-lite\"});\n",
       "</script>"
      ],
      "text/plain": [
       "alt.Chart(...)"
      ]
     },
     "execution_count": 131,
     "metadata": {},
     "output_type": "execute_result"
    }
   ],
   "source": [
    "alt.Chart(vega_datasets.data.movies.url).mark_bar().encode(\n",
    "    alt.X(\"IMDB_Rating:Q\",  bin=True),\n",
    "    alt.Y('count()')\n",
    ")"
   ]
  },
  {
   "cell_type": "markdown",
   "metadata": {
    "id": "kcVjz-lH_G_Y"
   },
   "source": [
    "Have you noted that it is `IMDB_Rating:Q` not `IMDB_Rating`? This is a shorthand for"
   ]
  },
  {
   "cell_type": "code",
   "execution_count": 132,
   "metadata": {
    "id": "Ml1DzJ2B_G_Z",
    "jupyter": {
     "outputs_hidden": false
    },
    "outputId": "e6da7c73-b7c1-468b-8a70-38fb3605fafc"
   },
   "outputs": [
    {
     "data": {
      "text/html": [
       "\n",
       "<div id=\"altair-viz-63f19f5bdec74985aa6062ce53f6e62d\"></div>\n",
       "<script type=\"text/javascript\">\n",
       "  var VEGA_DEBUG = (typeof VEGA_DEBUG == \"undefined\") ? {} : VEGA_DEBUG;\n",
       "  (function(spec, embedOpt){\n",
       "    let outputDiv = document.currentScript.previousElementSibling;\n",
       "    if (outputDiv.id !== \"altair-viz-63f19f5bdec74985aa6062ce53f6e62d\") {\n",
       "      outputDiv = document.getElementById(\"altair-viz-63f19f5bdec74985aa6062ce53f6e62d\");\n",
       "    }\n",
       "    const paths = {\n",
       "      \"vega\": \"https://cdn.jsdelivr.net/npm//vega@5?noext\",\n",
       "      \"vega-lib\": \"https://cdn.jsdelivr.net/npm//vega-lib?noext\",\n",
       "      \"vega-lite\": \"https://cdn.jsdelivr.net/npm//vega-lite@4.17.0?noext\",\n",
       "      \"vega-embed\": \"https://cdn.jsdelivr.net/npm//vega-embed@6?noext\",\n",
       "    };\n",
       "\n",
       "    function maybeLoadScript(lib, version) {\n",
       "      var key = `${lib.replace(\"-\", \"\")}_version`;\n",
       "      return (VEGA_DEBUG[key] == version) ?\n",
       "        Promise.resolve(paths[lib]) :\n",
       "        new Promise(function(resolve, reject) {\n",
       "          var s = document.createElement('script');\n",
       "          document.getElementsByTagName(\"head\")[0].appendChild(s);\n",
       "          s.async = true;\n",
       "          s.onload = () => {\n",
       "            VEGA_DEBUG[key] = version;\n",
       "            return resolve(paths[lib]);\n",
       "          };\n",
       "          s.onerror = () => reject(`Error loading script: ${paths[lib]}`);\n",
       "          s.src = paths[lib];\n",
       "        });\n",
       "    }\n",
       "\n",
       "    function showError(err) {\n",
       "      outputDiv.innerHTML = `<div class=\"error\" style=\"color:red;\">${err}</div>`;\n",
       "      throw err;\n",
       "    }\n",
       "\n",
       "    function displayChart(vegaEmbed) {\n",
       "      vegaEmbed(outputDiv, spec, embedOpt)\n",
       "        .catch(err => showError(`Javascript Error: ${err.message}<br>This usually means there's a typo in your chart specification. See the javascript console for the full traceback.`));\n",
       "    }\n",
       "\n",
       "    if(typeof define === \"function\" && define.amd) {\n",
       "      requirejs.config({paths});\n",
       "      require([\"vega-embed\"], displayChart, err => showError(`Error loading script: ${err.message}`));\n",
       "    } else {\n",
       "      maybeLoadScript(\"vega\", \"5\")\n",
       "        .then(() => maybeLoadScript(\"vega-lite\", \"4.17.0\"))\n",
       "        .then(() => maybeLoadScript(\"vega-embed\", \"6\"))\n",
       "        .catch(showError)\n",
       "        .then(() => displayChart(vegaEmbed));\n",
       "    }\n",
       "  })({\"config\": {\"view\": {\"continuousWidth\": 400, \"continuousHeight\": 300}}, \"data\": {\"url\": \"https://cdn.jsdelivr.net/npm/vega-datasets@v1.29.0/data/movies.json\"}, \"mark\": \"bar\", \"encoding\": {\"x\": {\"bin\": true, \"field\": \"IMDB_Rating\", \"type\": \"quantitative\"}, \"y\": {\"aggregate\": \"count\", \"type\": \"quantitative\"}}, \"$schema\": \"https://vega.github.io/schema/vega-lite/v4.17.0.json\"}, {\"mode\": \"vega-lite\"});\n",
       "</script>"
      ],
      "text/plain": [
       "alt.Chart(...)"
      ]
     },
     "execution_count": 132,
     "metadata": {},
     "output_type": "execute_result"
    }
   ],
   "source": [
    "alt.Chart(vega_datasets.data.movies.url).mark_bar().encode(\n",
    "    alt.X('IMDB_Rating', type='quantitative', bin=True),\n",
    "    alt.Y(aggregate='count', type='quantitative')\n",
    ")"
   ]
  },
  {
   "cell_type": "markdown",
   "metadata": {
    "id": "MXxEHGfq_G_Z"
   },
   "source": [
    "In altair, you want to specify the data types using one of the four categories: quantitative, ordinal, nominal, and temporal. https://altair-viz.github.io/user_guide/encoding.html#data-types"
   ]
  },
  {
   "cell_type": "markdown",
   "metadata": {
    "id": "HRJ4yICd_G_Z"
   },
   "source": [
    "Although you can adjust the bins in `altair`, it does not encourage you to set the bins directly. For instance, although there is `step` parameter that directly sets the bin size, there are parameters such as `maxbins` (maximum number of bins) or `minstep` (minimum allowable step size), or `nice` (attemps to make the bin boundaries more human-friendly), that encourage you not to specify the bins directly. "
   ]
  },
  {
   "cell_type": "code",
   "execution_count": 133,
   "metadata": {
    "id": "bQNAzAYV_G_a",
    "jupyter": {
     "outputs_hidden": false
    },
    "outputId": "57623a8a-4140-4b2c-9eb8-8e2e67c5fb0d"
   },
   "outputs": [
    {
     "data": {
      "text/html": [
       "\n",
       "<div id=\"altair-viz-94704bb51b9d4efab1d573c1cb642219\"></div>\n",
       "<script type=\"text/javascript\">\n",
       "  var VEGA_DEBUG = (typeof VEGA_DEBUG == \"undefined\") ? {} : VEGA_DEBUG;\n",
       "  (function(spec, embedOpt){\n",
       "    let outputDiv = document.currentScript.previousElementSibling;\n",
       "    if (outputDiv.id !== \"altair-viz-94704bb51b9d4efab1d573c1cb642219\") {\n",
       "      outputDiv = document.getElementById(\"altair-viz-94704bb51b9d4efab1d573c1cb642219\");\n",
       "    }\n",
       "    const paths = {\n",
       "      \"vega\": \"https://cdn.jsdelivr.net/npm//vega@5?noext\",\n",
       "      \"vega-lib\": \"https://cdn.jsdelivr.net/npm//vega-lib?noext\",\n",
       "      \"vega-lite\": \"https://cdn.jsdelivr.net/npm//vega-lite@4.17.0?noext\",\n",
       "      \"vega-embed\": \"https://cdn.jsdelivr.net/npm//vega-embed@6?noext\",\n",
       "    };\n",
       "\n",
       "    function maybeLoadScript(lib, version) {\n",
       "      var key = `${lib.replace(\"-\", \"\")}_version`;\n",
       "      return (VEGA_DEBUG[key] == version) ?\n",
       "        Promise.resolve(paths[lib]) :\n",
       "        new Promise(function(resolve, reject) {\n",
       "          var s = document.createElement('script');\n",
       "          document.getElementsByTagName(\"head\")[0].appendChild(s);\n",
       "          s.async = true;\n",
       "          s.onload = () => {\n",
       "            VEGA_DEBUG[key] = version;\n",
       "            return resolve(paths[lib]);\n",
       "          };\n",
       "          s.onerror = () => reject(`Error loading script: ${paths[lib]}`);\n",
       "          s.src = paths[lib];\n",
       "        });\n",
       "    }\n",
       "\n",
       "    function showError(err) {\n",
       "      outputDiv.innerHTML = `<div class=\"error\" style=\"color:red;\">${err}</div>`;\n",
       "      throw err;\n",
       "    }\n",
       "\n",
       "    function displayChart(vegaEmbed) {\n",
       "      vegaEmbed(outputDiv, spec, embedOpt)\n",
       "        .catch(err => showError(`Javascript Error: ${err.message}<br>This usually means there's a typo in your chart specification. See the javascript console for the full traceback.`));\n",
       "    }\n",
       "\n",
       "    if(typeof define === \"function\" && define.amd) {\n",
       "      requirejs.config({paths});\n",
       "      require([\"vega-embed\"], displayChart, err => showError(`Error loading script: ${err.message}`));\n",
       "    } else {\n",
       "      maybeLoadScript(\"vega\", \"5\")\n",
       "        .then(() => maybeLoadScript(\"vega-lite\", \"4.17.0\"))\n",
       "        .then(() => maybeLoadScript(\"vega-embed\", \"6\"))\n",
       "        .catch(showError)\n",
       "        .then(() => displayChart(vegaEmbed));\n",
       "    }\n",
       "  })({\"config\": {\"view\": {\"continuousWidth\": 400, \"continuousHeight\": 300}}, \"data\": {\"url\": \"https://cdn.jsdelivr.net/npm/vega-datasets@v1.29.0/data/movies.json\"}, \"mark\": \"bar\", \"encoding\": {\"x\": {\"bin\": {\"step\": 0.09}, \"field\": \"IMDB_Rating\", \"type\": \"quantitative\"}, \"y\": {\"aggregate\": \"count\", \"type\": \"quantitative\"}}, \"$schema\": \"https://vega.github.io/schema/vega-lite/v4.17.0.json\"}, {\"mode\": \"vega-lite\"});\n",
       "</script>"
      ],
      "text/plain": [
       "alt.Chart(...)"
      ]
     },
     "execution_count": 133,
     "metadata": {},
     "output_type": "execute_result"
    }
   ],
   "source": [
    "from altair import Bin\n",
    "\n",
    "alt.Chart(vega_datasets.data.movies.url).mark_bar().encode(\n",
    "    alt.X(\"IMDB_Rating:Q\",  bin=Bin(step=0.09)),\n",
    "    alt.Y('count()')\n",
    ")"
   ]
  },
  {
   "cell_type": "code",
   "execution_count": 134,
   "metadata": {
    "id": "yxUmNvoq_G_a",
    "jupyter": {
     "outputs_hidden": false
    },
    "outputId": "94ab02b4-9f6e-4096-db27-569968b244c8"
   },
   "outputs": [
    {
     "data": {
      "text/html": [
       "\n",
       "<div id=\"altair-viz-4c1a9d95ad094f11a9276cbcc945f037\"></div>\n",
       "<script type=\"text/javascript\">\n",
       "  var VEGA_DEBUG = (typeof VEGA_DEBUG == \"undefined\") ? {} : VEGA_DEBUG;\n",
       "  (function(spec, embedOpt){\n",
       "    let outputDiv = document.currentScript.previousElementSibling;\n",
       "    if (outputDiv.id !== \"altair-viz-4c1a9d95ad094f11a9276cbcc945f037\") {\n",
       "      outputDiv = document.getElementById(\"altair-viz-4c1a9d95ad094f11a9276cbcc945f037\");\n",
       "    }\n",
       "    const paths = {\n",
       "      \"vega\": \"https://cdn.jsdelivr.net/npm//vega@5?noext\",\n",
       "      \"vega-lib\": \"https://cdn.jsdelivr.net/npm//vega-lib?noext\",\n",
       "      \"vega-lite\": \"https://cdn.jsdelivr.net/npm//vega-lite@4.17.0?noext\",\n",
       "      \"vega-embed\": \"https://cdn.jsdelivr.net/npm//vega-embed@6?noext\",\n",
       "    };\n",
       "\n",
       "    function maybeLoadScript(lib, version) {\n",
       "      var key = `${lib.replace(\"-\", \"\")}_version`;\n",
       "      return (VEGA_DEBUG[key] == version) ?\n",
       "        Promise.resolve(paths[lib]) :\n",
       "        new Promise(function(resolve, reject) {\n",
       "          var s = document.createElement('script');\n",
       "          document.getElementsByTagName(\"head\")[0].appendChild(s);\n",
       "          s.async = true;\n",
       "          s.onload = () => {\n",
       "            VEGA_DEBUG[key] = version;\n",
       "            return resolve(paths[lib]);\n",
       "          };\n",
       "          s.onerror = () => reject(`Error loading script: ${paths[lib]}`);\n",
       "          s.src = paths[lib];\n",
       "        });\n",
       "    }\n",
       "\n",
       "    function showError(err) {\n",
       "      outputDiv.innerHTML = `<div class=\"error\" style=\"color:red;\">${err}</div>`;\n",
       "      throw err;\n",
       "    }\n",
       "\n",
       "    function displayChart(vegaEmbed) {\n",
       "      vegaEmbed(outputDiv, spec, embedOpt)\n",
       "        .catch(err => showError(`Javascript Error: ${err.message}<br>This usually means there's a typo in your chart specification. See the javascript console for the full traceback.`));\n",
       "    }\n",
       "\n",
       "    if(typeof define === \"function\" && define.amd) {\n",
       "      requirejs.config({paths});\n",
       "      require([\"vega-embed\"], displayChart, err => showError(`Error loading script: ${err.message}`));\n",
       "    } else {\n",
       "      maybeLoadScript(\"vega\", \"5\")\n",
       "        .then(() => maybeLoadScript(\"vega-lite\", \"4.17.0\"))\n",
       "        .then(() => maybeLoadScript(\"vega-embed\", \"6\"))\n",
       "        .catch(showError)\n",
       "        .then(() => displayChart(vegaEmbed));\n",
       "    }\n",
       "  })({\"config\": {\"view\": {\"continuousWidth\": 400, \"continuousHeight\": 300}}, \"data\": {\"url\": \"https://cdn.jsdelivr.net/npm/vega-datasets@v1.29.0/data/movies.json\"}, \"mark\": \"bar\", \"encoding\": {\"x\": {\"bin\": {\"maxbins\": 20, \"nice\": true}, \"field\": \"IMDB_Rating\", \"type\": \"quantitative\"}, \"y\": {\"aggregate\": \"count\", \"type\": \"quantitative\"}}, \"$schema\": \"https://vega.github.io/schema/vega-lite/v4.17.0.json\"}, {\"mode\": \"vega-lite\"});\n",
       "</script>"
      ],
      "text/plain": [
       "alt.Chart(...)"
      ]
     },
     "execution_count": 134,
     "metadata": {},
     "output_type": "execute_result"
    }
   ],
   "source": [
    "alt.Chart(vega_datasets.data.movies.url).mark_bar().encode(\n",
    "    alt.X(\"IMDB_Rating:Q\",  bin=Bin(nice=True, maxbins=20)),\n",
    "    alt.Y('count()')\n",
    ")"
   ]
  },
  {
   "cell_type": "markdown",
   "metadata": {
    "id": "Ebeq7q_o_G_a"
   },
   "source": [
    "### Composing charts in altair\n",
    "\n",
    "`altair` has a very nice way to compose multiple plots. Two histograms side by side? just do the following."
   ]
  },
  {
   "cell_type": "code",
   "execution_count": 135,
   "metadata": {
    "id": "HKWFq9uH_G_b"
   },
   "outputs": [],
   "source": [
    "chart1 = alt.Chart(vega_datasets.data.movies.url).mark_bar().encode(\n",
    "    alt.X(\"IMDB_Rating:Q\",  bin=Bin(step=0.1)),\n",
    "    alt.Y('count()')\n",
    ").properties(\n",
    "    width=300,\n",
    "    height=150\n",
    ")\n",
    "chart2 = alt.Chart(vega_datasets.data.movies.url).mark_bar().encode(\n",
    "    alt.X(\"IMDB_Rating:Q\",  bin=Bin(nice=True, maxbins=20)),\n",
    "    alt.Y('count()')\n",
    ").properties(\n",
    "    width=300,\n",
    "    height=150\n",
    ")"
   ]
  },
  {
   "cell_type": "code",
   "execution_count": 136,
   "metadata": {
    "id": "CKFX__1v_G_b",
    "jupyter": {
     "outputs_hidden": false
    },
    "outputId": "3f00466a-6694-42c5-88f9-7dcc010aed5f"
   },
   "outputs": [
    {
     "data": {
      "text/html": [
       "\n",
       "<div id=\"altair-viz-8b9a495acf4f4b849887f903c1f47629\"></div>\n",
       "<script type=\"text/javascript\">\n",
       "  var VEGA_DEBUG = (typeof VEGA_DEBUG == \"undefined\") ? {} : VEGA_DEBUG;\n",
       "  (function(spec, embedOpt){\n",
       "    let outputDiv = document.currentScript.previousElementSibling;\n",
       "    if (outputDiv.id !== \"altair-viz-8b9a495acf4f4b849887f903c1f47629\") {\n",
       "      outputDiv = document.getElementById(\"altair-viz-8b9a495acf4f4b849887f903c1f47629\");\n",
       "    }\n",
       "    const paths = {\n",
       "      \"vega\": \"https://cdn.jsdelivr.net/npm//vega@5?noext\",\n",
       "      \"vega-lib\": \"https://cdn.jsdelivr.net/npm//vega-lib?noext\",\n",
       "      \"vega-lite\": \"https://cdn.jsdelivr.net/npm//vega-lite@4.17.0?noext\",\n",
       "      \"vega-embed\": \"https://cdn.jsdelivr.net/npm//vega-embed@6?noext\",\n",
       "    };\n",
       "\n",
       "    function maybeLoadScript(lib, version) {\n",
       "      var key = `${lib.replace(\"-\", \"\")}_version`;\n",
       "      return (VEGA_DEBUG[key] == version) ?\n",
       "        Promise.resolve(paths[lib]) :\n",
       "        new Promise(function(resolve, reject) {\n",
       "          var s = document.createElement('script');\n",
       "          document.getElementsByTagName(\"head\")[0].appendChild(s);\n",
       "          s.async = true;\n",
       "          s.onload = () => {\n",
       "            VEGA_DEBUG[key] = version;\n",
       "            return resolve(paths[lib]);\n",
       "          };\n",
       "          s.onerror = () => reject(`Error loading script: ${paths[lib]}`);\n",
       "          s.src = paths[lib];\n",
       "        });\n",
       "    }\n",
       "\n",
       "    function showError(err) {\n",
       "      outputDiv.innerHTML = `<div class=\"error\" style=\"color:red;\">${err}</div>`;\n",
       "      throw err;\n",
       "    }\n",
       "\n",
       "    function displayChart(vegaEmbed) {\n",
       "      vegaEmbed(outputDiv, spec, embedOpt)\n",
       "        .catch(err => showError(`Javascript Error: ${err.message}<br>This usually means there's a typo in your chart specification. See the javascript console for the full traceback.`));\n",
       "    }\n",
       "\n",
       "    if(typeof define === \"function\" && define.amd) {\n",
       "      requirejs.config({paths});\n",
       "      require([\"vega-embed\"], displayChart, err => showError(`Error loading script: ${err.message}`));\n",
       "    } else {\n",
       "      maybeLoadScript(\"vega\", \"5\")\n",
       "        .then(() => maybeLoadScript(\"vega-lite\", \"4.17.0\"))\n",
       "        .then(() => maybeLoadScript(\"vega-embed\", \"6\"))\n",
       "        .catch(showError)\n",
       "        .then(() => displayChart(vegaEmbed));\n",
       "    }\n",
       "  })({\"config\": {\"view\": {\"continuousWidth\": 400, \"continuousHeight\": 300}}, \"hconcat\": [{\"data\": {\"url\": \"https://cdn.jsdelivr.net/npm/vega-datasets@v1.29.0/data/movies.json\"}, \"mark\": \"bar\", \"encoding\": {\"x\": {\"bin\": {\"step\": 0.1}, \"field\": \"IMDB_Rating\", \"type\": \"quantitative\"}, \"y\": {\"aggregate\": \"count\", \"type\": \"quantitative\"}}, \"height\": 150, \"width\": 300}, {\"data\": {\"url\": \"https://cdn.jsdelivr.net/npm/vega-datasets@v1.29.0/data/movies.json\"}, \"mark\": \"bar\", \"encoding\": {\"x\": {\"bin\": {\"maxbins\": 20, \"nice\": true}, \"field\": \"IMDB_Rating\", \"type\": \"quantitative\"}, \"y\": {\"aggregate\": \"count\", \"type\": \"quantitative\"}}, \"height\": 150, \"width\": 300}], \"$schema\": \"https://vega.github.io/schema/vega-lite/v4.17.0.json\"}, {\"mode\": \"vega-lite\"});\n",
       "</script>"
      ],
      "text/plain": [
       "alt.HConcatChart(...)"
      ]
     },
     "execution_count": 136,
     "metadata": {},
     "output_type": "execute_result"
    }
   ],
   "source": [
    "chart1 | chart2"
   ]
  },
  {
   "cell_type": "code",
   "execution_count": 137,
   "metadata": {
    "id": "6EddLDKT_G_b",
    "jupyter": {
     "outputs_hidden": false
    },
    "outputId": "59f1f72f-db26-4a8e-f637-90cfa59c0e4b"
   },
   "outputs": [
    {
     "data": {
      "text/html": [
       "\n",
       "<div id=\"altair-viz-4e2694fe88d14dce9c1c59aaba7708e6\"></div>\n",
       "<script type=\"text/javascript\">\n",
       "  var VEGA_DEBUG = (typeof VEGA_DEBUG == \"undefined\") ? {} : VEGA_DEBUG;\n",
       "  (function(spec, embedOpt){\n",
       "    let outputDiv = document.currentScript.previousElementSibling;\n",
       "    if (outputDiv.id !== \"altair-viz-4e2694fe88d14dce9c1c59aaba7708e6\") {\n",
       "      outputDiv = document.getElementById(\"altair-viz-4e2694fe88d14dce9c1c59aaba7708e6\");\n",
       "    }\n",
       "    const paths = {\n",
       "      \"vega\": \"https://cdn.jsdelivr.net/npm//vega@5?noext\",\n",
       "      \"vega-lib\": \"https://cdn.jsdelivr.net/npm//vega-lib?noext\",\n",
       "      \"vega-lite\": \"https://cdn.jsdelivr.net/npm//vega-lite@4.17.0?noext\",\n",
       "      \"vega-embed\": \"https://cdn.jsdelivr.net/npm//vega-embed@6?noext\",\n",
       "    };\n",
       "\n",
       "    function maybeLoadScript(lib, version) {\n",
       "      var key = `${lib.replace(\"-\", \"\")}_version`;\n",
       "      return (VEGA_DEBUG[key] == version) ?\n",
       "        Promise.resolve(paths[lib]) :\n",
       "        new Promise(function(resolve, reject) {\n",
       "          var s = document.createElement('script');\n",
       "          document.getElementsByTagName(\"head\")[0].appendChild(s);\n",
       "          s.async = true;\n",
       "          s.onload = () => {\n",
       "            VEGA_DEBUG[key] = version;\n",
       "            return resolve(paths[lib]);\n",
       "          };\n",
       "          s.onerror = () => reject(`Error loading script: ${paths[lib]}`);\n",
       "          s.src = paths[lib];\n",
       "        });\n",
       "    }\n",
       "\n",
       "    function showError(err) {\n",
       "      outputDiv.innerHTML = `<div class=\"error\" style=\"color:red;\">${err}</div>`;\n",
       "      throw err;\n",
       "    }\n",
       "\n",
       "    function displayChart(vegaEmbed) {\n",
       "      vegaEmbed(outputDiv, spec, embedOpt)\n",
       "        .catch(err => showError(`Javascript Error: ${err.message}<br>This usually means there's a typo in your chart specification. See the javascript console for the full traceback.`));\n",
       "    }\n",
       "\n",
       "    if(typeof define === \"function\" && define.amd) {\n",
       "      requirejs.config({paths});\n",
       "      require([\"vega-embed\"], displayChart, err => showError(`Error loading script: ${err.message}`));\n",
       "    } else {\n",
       "      maybeLoadScript(\"vega\", \"5\")\n",
       "        .then(() => maybeLoadScript(\"vega-lite\", \"4.17.0\"))\n",
       "        .then(() => maybeLoadScript(\"vega-embed\", \"6\"))\n",
       "        .catch(showError)\n",
       "        .then(() => displayChart(vegaEmbed));\n",
       "    }\n",
       "  })({\"config\": {\"view\": {\"continuousWidth\": 400, \"continuousHeight\": 300}}, \"hconcat\": [{\"data\": {\"url\": \"https://cdn.jsdelivr.net/npm/vega-datasets@v1.29.0/data/movies.json\"}, \"mark\": \"bar\", \"encoding\": {\"x\": {\"bin\": {\"step\": 0.1}, \"field\": \"IMDB_Rating\", \"type\": \"quantitative\"}, \"y\": {\"aggregate\": \"count\", \"type\": \"quantitative\"}}, \"height\": 150, \"width\": 300}, {\"data\": {\"url\": \"https://cdn.jsdelivr.net/npm/vega-datasets@v1.29.0/data/movies.json\"}, \"mark\": \"bar\", \"encoding\": {\"x\": {\"bin\": {\"maxbins\": 20, \"nice\": true}, \"field\": \"IMDB_Rating\", \"type\": \"quantitative\"}, \"y\": {\"aggregate\": \"count\", \"type\": \"quantitative\"}}, \"height\": 150, \"width\": 300}], \"$schema\": \"https://vega.github.io/schema/vega-lite/v4.17.0.json\"}, {\"mode\": \"vega-lite\"});\n",
       "</script>"
      ],
      "text/plain": [
       "alt.HConcatChart(...)"
      ]
     },
     "execution_count": 137,
     "metadata": {},
     "output_type": "execute_result"
    }
   ],
   "source": [
    "alt.hconcat(chart1, chart2)"
   ]
  },
  {
   "cell_type": "markdown",
   "metadata": {
    "id": "U9RjftBC_G_b"
   },
   "source": [
    "Vertical commposition? "
   ]
  },
  {
   "cell_type": "code",
   "execution_count": 138,
   "metadata": {
    "id": "Tv0T5fgc_G_c",
    "jupyter": {
     "outputs_hidden": false
    },
    "outputId": "87b974b2-acb3-4186-d1da-5d3e89042241"
   },
   "outputs": [
    {
     "data": {
      "text/html": [
       "\n",
       "<div id=\"altair-viz-8d189e48fe7f40a4b5860658fd98f429\"></div>\n",
       "<script type=\"text/javascript\">\n",
       "  var VEGA_DEBUG = (typeof VEGA_DEBUG == \"undefined\") ? {} : VEGA_DEBUG;\n",
       "  (function(spec, embedOpt){\n",
       "    let outputDiv = document.currentScript.previousElementSibling;\n",
       "    if (outputDiv.id !== \"altair-viz-8d189e48fe7f40a4b5860658fd98f429\") {\n",
       "      outputDiv = document.getElementById(\"altair-viz-8d189e48fe7f40a4b5860658fd98f429\");\n",
       "    }\n",
       "    const paths = {\n",
       "      \"vega\": \"https://cdn.jsdelivr.net/npm//vega@5?noext\",\n",
       "      \"vega-lib\": \"https://cdn.jsdelivr.net/npm//vega-lib?noext\",\n",
       "      \"vega-lite\": \"https://cdn.jsdelivr.net/npm//vega-lite@4.17.0?noext\",\n",
       "      \"vega-embed\": \"https://cdn.jsdelivr.net/npm//vega-embed@6?noext\",\n",
       "    };\n",
       "\n",
       "    function maybeLoadScript(lib, version) {\n",
       "      var key = `${lib.replace(\"-\", \"\")}_version`;\n",
       "      return (VEGA_DEBUG[key] == version) ?\n",
       "        Promise.resolve(paths[lib]) :\n",
       "        new Promise(function(resolve, reject) {\n",
       "          var s = document.createElement('script');\n",
       "          document.getElementsByTagName(\"head\")[0].appendChild(s);\n",
       "          s.async = true;\n",
       "          s.onload = () => {\n",
       "            VEGA_DEBUG[key] = version;\n",
       "            return resolve(paths[lib]);\n",
       "          };\n",
       "          s.onerror = () => reject(`Error loading script: ${paths[lib]}`);\n",
       "          s.src = paths[lib];\n",
       "        });\n",
       "    }\n",
       "\n",
       "    function showError(err) {\n",
       "      outputDiv.innerHTML = `<div class=\"error\" style=\"color:red;\">${err}</div>`;\n",
       "      throw err;\n",
       "    }\n",
       "\n",
       "    function displayChart(vegaEmbed) {\n",
       "      vegaEmbed(outputDiv, spec, embedOpt)\n",
       "        .catch(err => showError(`Javascript Error: ${err.message}<br>This usually means there's a typo in your chart specification. See the javascript console for the full traceback.`));\n",
       "    }\n",
       "\n",
       "    if(typeof define === \"function\" && define.amd) {\n",
       "      requirejs.config({paths});\n",
       "      require([\"vega-embed\"], displayChart, err => showError(`Error loading script: ${err.message}`));\n",
       "    } else {\n",
       "      maybeLoadScript(\"vega\", \"5\")\n",
       "        .then(() => maybeLoadScript(\"vega-lite\", \"4.17.0\"))\n",
       "        .then(() => maybeLoadScript(\"vega-embed\", \"6\"))\n",
       "        .catch(showError)\n",
       "        .then(() => displayChart(vegaEmbed));\n",
       "    }\n",
       "  })({\"config\": {\"view\": {\"continuousWidth\": 400, \"continuousHeight\": 300}}, \"vconcat\": [{\"data\": {\"url\": \"https://cdn.jsdelivr.net/npm/vega-datasets@v1.29.0/data/movies.json\"}, \"mark\": \"bar\", \"encoding\": {\"x\": {\"bin\": {\"step\": 0.1}, \"field\": \"IMDB_Rating\", \"type\": \"quantitative\"}, \"y\": {\"aggregate\": \"count\", \"type\": \"quantitative\"}}, \"height\": 150, \"width\": 300}, {\"data\": {\"url\": \"https://cdn.jsdelivr.net/npm/vega-datasets@v1.29.0/data/movies.json\"}, \"mark\": \"bar\", \"encoding\": {\"x\": {\"bin\": {\"maxbins\": 20, \"nice\": true}, \"field\": \"IMDB_Rating\", \"type\": \"quantitative\"}, \"y\": {\"aggregate\": \"count\", \"type\": \"quantitative\"}}, \"height\": 150, \"width\": 300}], \"$schema\": \"https://vega.github.io/schema/vega-lite/v4.17.0.json\"}, {\"mode\": \"vega-lite\"});\n",
       "</script>"
      ],
      "text/plain": [
       "alt.VConcatChart(...)"
      ]
     },
     "execution_count": 138,
     "metadata": {},
     "output_type": "execute_result"
    }
   ],
   "source": [
    "alt.vconcat(chart1, chart2)"
   ]
  },
  {
   "cell_type": "code",
   "execution_count": 139,
   "metadata": {
    "id": "qNsN6uZt_G_c",
    "jupyter": {
     "outputs_hidden": false
    },
    "outputId": "3a400b07-a3a3-4b10-cb2a-78a63f520103"
   },
   "outputs": [
    {
     "data": {
      "text/html": [
       "\n",
       "<div id=\"altair-viz-0df2b771662747a880d0e06165cd7c82\"></div>\n",
       "<script type=\"text/javascript\">\n",
       "  var VEGA_DEBUG = (typeof VEGA_DEBUG == \"undefined\") ? {} : VEGA_DEBUG;\n",
       "  (function(spec, embedOpt){\n",
       "    let outputDiv = document.currentScript.previousElementSibling;\n",
       "    if (outputDiv.id !== \"altair-viz-0df2b771662747a880d0e06165cd7c82\") {\n",
       "      outputDiv = document.getElementById(\"altair-viz-0df2b771662747a880d0e06165cd7c82\");\n",
       "    }\n",
       "    const paths = {\n",
       "      \"vega\": \"https://cdn.jsdelivr.net/npm//vega@5?noext\",\n",
       "      \"vega-lib\": \"https://cdn.jsdelivr.net/npm//vega-lib?noext\",\n",
       "      \"vega-lite\": \"https://cdn.jsdelivr.net/npm//vega-lite@4.17.0?noext\",\n",
       "      \"vega-embed\": \"https://cdn.jsdelivr.net/npm//vega-embed@6?noext\",\n",
       "    };\n",
       "\n",
       "    function maybeLoadScript(lib, version) {\n",
       "      var key = `${lib.replace(\"-\", \"\")}_version`;\n",
       "      return (VEGA_DEBUG[key] == version) ?\n",
       "        Promise.resolve(paths[lib]) :\n",
       "        new Promise(function(resolve, reject) {\n",
       "          var s = document.createElement('script');\n",
       "          document.getElementsByTagName(\"head\")[0].appendChild(s);\n",
       "          s.async = true;\n",
       "          s.onload = () => {\n",
       "            VEGA_DEBUG[key] = version;\n",
       "            return resolve(paths[lib]);\n",
       "          };\n",
       "          s.onerror = () => reject(`Error loading script: ${paths[lib]}`);\n",
       "          s.src = paths[lib];\n",
       "        });\n",
       "    }\n",
       "\n",
       "    function showError(err) {\n",
       "      outputDiv.innerHTML = `<div class=\"error\" style=\"color:red;\">${err}</div>`;\n",
       "      throw err;\n",
       "    }\n",
       "\n",
       "    function displayChart(vegaEmbed) {\n",
       "      vegaEmbed(outputDiv, spec, embedOpt)\n",
       "        .catch(err => showError(`Javascript Error: ${err.message}<br>This usually means there's a typo in your chart specification. See the javascript console for the full traceback.`));\n",
       "    }\n",
       "\n",
       "    if(typeof define === \"function\" && define.amd) {\n",
       "      requirejs.config({paths});\n",
       "      require([\"vega-embed\"], displayChart, err => showError(`Error loading script: ${err.message}`));\n",
       "    } else {\n",
       "      maybeLoadScript(\"vega\", \"5\")\n",
       "        .then(() => maybeLoadScript(\"vega-lite\", \"4.17.0\"))\n",
       "        .then(() => maybeLoadScript(\"vega-embed\", \"6\"))\n",
       "        .catch(showError)\n",
       "        .then(() => displayChart(vegaEmbed));\n",
       "    }\n",
       "  })({\"config\": {\"view\": {\"continuousWidth\": 400, \"continuousHeight\": 300}}, \"vconcat\": [{\"data\": {\"url\": \"https://cdn.jsdelivr.net/npm/vega-datasets@v1.29.0/data/movies.json\"}, \"mark\": \"bar\", \"encoding\": {\"x\": {\"bin\": {\"step\": 0.1}, \"field\": \"IMDB_Rating\", \"type\": \"quantitative\"}, \"y\": {\"aggregate\": \"count\", \"type\": \"quantitative\"}}, \"height\": 150, \"width\": 300}, {\"data\": {\"url\": \"https://cdn.jsdelivr.net/npm/vega-datasets@v1.29.0/data/movies.json\"}, \"mark\": \"bar\", \"encoding\": {\"x\": {\"bin\": {\"maxbins\": 20, \"nice\": true}, \"field\": \"IMDB_Rating\", \"type\": \"quantitative\"}, \"y\": {\"aggregate\": \"count\", \"type\": \"quantitative\"}}, \"height\": 150, \"width\": 300}], \"$schema\": \"https://vega.github.io/schema/vega-lite/v4.17.0.json\"}, {\"mode\": \"vega-lite\"});\n",
       "</script>"
      ],
      "text/plain": [
       "alt.VConcatChart(...)"
      ]
     },
     "execution_count": 139,
     "metadata": {},
     "output_type": "execute_result"
    }
   ],
   "source": [
    "chart1 & chart2"
   ]
  },
  {
   "cell_type": "markdown",
   "metadata": {
    "id": "q64PqDaq_G_c"
   },
   "source": [
    "Shall we avoid some repetitions? You can define a *base* empty chart first and then assign encodings later when you put together multiple charts together. Here is an example: https://altair-viz.github.io/user_guide/compound_charts.html#repeated-charts\n",
    "\n"
   ]
  },
  {
   "cell_type": "markdown",
   "metadata": {
    "id": "8sacUYEF_G_d"
   },
   "source": [
    "Use base chart to produce the chart above:"
   ]
  },
  {
   "cell_type": "code",
   "execution_count": 140,
   "metadata": {
    "id": "8p4KLnHb_G_d",
    "outputId": "6881b905-1fb6-4909-ffd4-80829ffe8326"
   },
   "outputs": [
    {
     "data": {
      "text/html": [
       "\n",
       "<div id=\"altair-viz-d408403e417645c9b94f214dd685c950\"></div>\n",
       "<script type=\"text/javascript\">\n",
       "  var VEGA_DEBUG = (typeof VEGA_DEBUG == \"undefined\") ? {} : VEGA_DEBUG;\n",
       "  (function(spec, embedOpt){\n",
       "    let outputDiv = document.currentScript.previousElementSibling;\n",
       "    if (outputDiv.id !== \"altair-viz-d408403e417645c9b94f214dd685c950\") {\n",
       "      outputDiv = document.getElementById(\"altair-viz-d408403e417645c9b94f214dd685c950\");\n",
       "    }\n",
       "    const paths = {\n",
       "      \"vega\": \"https://cdn.jsdelivr.net/npm//vega@5?noext\",\n",
       "      \"vega-lib\": \"https://cdn.jsdelivr.net/npm//vega-lib?noext\",\n",
       "      \"vega-lite\": \"https://cdn.jsdelivr.net/npm//vega-lite@4.17.0?noext\",\n",
       "      \"vega-embed\": \"https://cdn.jsdelivr.net/npm//vega-embed@6?noext\",\n",
       "    };\n",
       "\n",
       "    function maybeLoadScript(lib, version) {\n",
       "      var key = `${lib.replace(\"-\", \"\")}_version`;\n",
       "      return (VEGA_DEBUG[key] == version) ?\n",
       "        Promise.resolve(paths[lib]) :\n",
       "        new Promise(function(resolve, reject) {\n",
       "          var s = document.createElement('script');\n",
       "          document.getElementsByTagName(\"head\")[0].appendChild(s);\n",
       "          s.async = true;\n",
       "          s.onload = () => {\n",
       "            VEGA_DEBUG[key] = version;\n",
       "            return resolve(paths[lib]);\n",
       "          };\n",
       "          s.onerror = () => reject(`Error loading script: ${paths[lib]}`);\n",
       "          s.src = paths[lib];\n",
       "        });\n",
       "    }\n",
       "\n",
       "    function showError(err) {\n",
       "      outputDiv.innerHTML = `<div class=\"error\" style=\"color:red;\">${err}</div>`;\n",
       "      throw err;\n",
       "    }\n",
       "\n",
       "    function displayChart(vegaEmbed) {\n",
       "      vegaEmbed(outputDiv, spec, embedOpt)\n",
       "        .catch(err => showError(`Javascript Error: ${err.message}<br>This usually means there's a typo in your chart specification. See the javascript console for the full traceback.`));\n",
       "    }\n",
       "\n",
       "    if(typeof define === \"function\" && define.amd) {\n",
       "      requirejs.config({paths});\n",
       "      require([\"vega-embed\"], displayChart, err => showError(`Error loading script: ${err.message}`));\n",
       "    } else {\n",
       "      maybeLoadScript(\"vega\", \"5\")\n",
       "        .then(() => maybeLoadScript(\"vega-lite\", \"4.17.0\"))\n",
       "        .then(() => maybeLoadScript(\"vega-embed\", \"6\"))\n",
       "        .catch(showError)\n",
       "        .then(() => displayChart(vegaEmbed));\n",
       "    }\n",
       "  })({\"config\": {\"view\": {\"continuousWidth\": 400, \"continuousHeight\": 300}}, \"vconcat\": [{\"hconcat\": [{\"mark\": \"bar\", \"encoding\": {\"x\": {\"bin\": {\"step\": 0.1}, \"field\": \"IMDB_Rating\", \"type\": \"quantitative\"}, \"y\": {\"aggregate\": \"count\", \"type\": \"quantitative\"}}, \"height\": 150, \"width\": 300}]}, {\"hconcat\": [{\"mark\": \"bar\", \"encoding\": {\"x\": {\"bin\": {\"maxbins\": 20, \"nice\": true}, \"field\": \"IMDB_Rating\", \"type\": \"quantitative\"}, \"y\": {\"aggregate\": \"count\", \"type\": \"quantitative\"}}, \"height\": 150, \"width\": 300}]}], \"data\": {\"url\": \"https://cdn.jsdelivr.net/npm/vega-datasets@v1.29.0/data/movies.json\"}, \"$schema\": \"https://vega.github.io/schema/vega-lite/v4.17.0.json\"}, {\"mode\": \"vega-lite\"});\n",
       "</script>"
      ],
      "text/plain": [
       "alt.VConcatChart(...)"
      ]
     },
     "execution_count": 140,
     "metadata": {},
     "output_type": "execute_result"
    }
   ],
   "source": [
    "base = alt.Chart().mark_bar().encode(\n",
    "    alt.X(\"IMDB_Rating:Q\",  bin=Bin(nice=True, maxbins=20)),\n",
    "    alt.Y('count()')\n",
    ").properties(\n",
    "    width=300,\n",
    "    height=150\n",
    ")\n",
    "\n",
    "chart = alt.vconcat(data=vega_datasets.data.movies.url)\n",
    "for bin_param in [Bin(step=0.1), Bin(nice=True, maxbins=20)]:\n",
    "    row = alt.hconcat()\n",
    "    row |= base.encode(x=alt.X(\"IMDB_Rating:Q\", bin=bin_param), y='count()')\n",
    "    chart &= row\n",
    "\n",
    "chart"
   ]
  },
  {
   "cell_type": "markdown",
   "metadata": {
    "id": "fNks8h5J_G_d"
   },
   "source": [
    "**Q: Using the base chart approach to create a 2x2 chart where the top row shows the two histograms of `IMDB_Rating` with `maxbins`=10 and 50 respectively, and the bottom row shows another two histograms of `IMDB_Votes` with `maxbins`=10 and 50.**"
   ]
  },
  {
   "cell_type": "code",
   "execution_count": 141,
   "metadata": {},
   "outputs": [
    {
     "data": {
      "text/html": [
       "\n",
       "<div id=\"altair-viz-fac742f1ab474b73b691cba257efb287\"></div>\n",
       "<script type=\"text/javascript\">\n",
       "  var VEGA_DEBUG = (typeof VEGA_DEBUG == \"undefined\") ? {} : VEGA_DEBUG;\n",
       "  (function(spec, embedOpt){\n",
       "    let outputDiv = document.currentScript.previousElementSibling;\n",
       "    if (outputDiv.id !== \"altair-viz-fac742f1ab474b73b691cba257efb287\") {\n",
       "      outputDiv = document.getElementById(\"altair-viz-fac742f1ab474b73b691cba257efb287\");\n",
       "    }\n",
       "    const paths = {\n",
       "      \"vega\": \"https://cdn.jsdelivr.net/npm//vega@5?noext\",\n",
       "      \"vega-lib\": \"https://cdn.jsdelivr.net/npm//vega-lib?noext\",\n",
       "      \"vega-lite\": \"https://cdn.jsdelivr.net/npm//vega-lite@4.17.0?noext\",\n",
       "      \"vega-embed\": \"https://cdn.jsdelivr.net/npm//vega-embed@6?noext\",\n",
       "    };\n",
       "\n",
       "    function maybeLoadScript(lib, version) {\n",
       "      var key = `${lib.replace(\"-\", \"\")}_version`;\n",
       "      return (VEGA_DEBUG[key] == version) ?\n",
       "        Promise.resolve(paths[lib]) :\n",
       "        new Promise(function(resolve, reject) {\n",
       "          var s = document.createElement('script');\n",
       "          document.getElementsByTagName(\"head\")[0].appendChild(s);\n",
       "          s.async = true;\n",
       "          s.onload = () => {\n",
       "            VEGA_DEBUG[key] = version;\n",
       "            return resolve(paths[lib]);\n",
       "          };\n",
       "          s.onerror = () => reject(`Error loading script: ${paths[lib]}`);\n",
       "          s.src = paths[lib];\n",
       "        });\n",
       "    }\n",
       "\n",
       "    function showError(err) {\n",
       "      outputDiv.innerHTML = `<div class=\"error\" style=\"color:red;\">${err}</div>`;\n",
       "      throw err;\n",
       "    }\n",
       "\n",
       "    function displayChart(vegaEmbed) {\n",
       "      vegaEmbed(outputDiv, spec, embedOpt)\n",
       "        .catch(err => showError(`Javascript Error: ${err.message}<br>This usually means there's a typo in your chart specification. See the javascript console for the full traceback.`));\n",
       "    }\n",
       "\n",
       "    if(typeof define === \"function\" && define.amd) {\n",
       "      requirejs.config({paths});\n",
       "      require([\"vega-embed\"], displayChart, err => showError(`Error loading script: ${err.message}`));\n",
       "    } else {\n",
       "      maybeLoadScript(\"vega\", \"5\")\n",
       "        .then(() => maybeLoadScript(\"vega-lite\", \"4.17.0\"))\n",
       "        .then(() => maybeLoadScript(\"vega-embed\", \"6\"))\n",
       "        .catch(showError)\n",
       "        .then(() => displayChart(vegaEmbed));\n",
       "    }\n",
       "  })({\"config\": {\"view\": {\"continuousWidth\": 400, \"continuousHeight\": 300}}, \"vconcat\": [{\"hconcat\": [{\"data\": {\"url\": \"https://cdn.jsdelivr.net/npm/vega-datasets@v1.29.0/data/movies.json\"}, \"mark\": \"bar\", \"encoding\": {\"x\": {\"bin\": {\"maxbins\": 10, \"nice\": true}, \"field\": \"IMDB_Rating\", \"type\": \"quantitative\"}, \"y\": {\"aggregate\": \"count\", \"type\": \"quantitative\"}}, \"height\": 150, \"width\": 300}, {\"data\": {\"url\": \"https://cdn.jsdelivr.net/npm/vega-datasets@v1.29.0/data/movies.json\"}, \"mark\": \"bar\", \"encoding\": {\"x\": {\"bin\": {\"maxbins\": 50, \"nice\": true}, \"field\": \"IMDB_Rating\", \"type\": \"quantitative\"}, \"y\": {\"aggregate\": \"count\", \"type\": \"quantitative\"}}, \"height\": 150, \"width\": 300}]}, {\"hconcat\": [{\"data\": {\"url\": \"https://cdn.jsdelivr.net/npm/vega-datasets@v1.29.0/data/movies.json\"}, \"mark\": \"bar\", \"encoding\": {\"x\": {\"bin\": {\"maxbins\": 10, \"nice\": true}, \"field\": \"IMDB_Votes\", \"type\": \"quantitative\"}, \"y\": {\"aggregate\": \"count\", \"type\": \"quantitative\"}}, \"height\": 150, \"width\": 300}, {\"data\": {\"url\": \"https://cdn.jsdelivr.net/npm/vega-datasets@v1.29.0/data/movies.json\"}, \"mark\": \"bar\", \"encoding\": {\"x\": {\"bin\": {\"maxbins\": 50, \"nice\": true}, \"field\": \"IMDB_Votes\", \"type\": \"quantitative\"}, \"y\": {\"aggregate\": \"count\", \"type\": \"quantitative\"}}, \"height\": 150, \"width\": 300}]}], \"$schema\": \"https://vega.github.io/schema/vega-lite/v4.17.0.json\"}, {\"mode\": \"vega-lite\"});\n",
       "</script>"
      ],
      "text/plain": [
       "alt.VConcatChart(...)"
      ]
     },
     "execution_count": 141,
     "metadata": {},
     "output_type": "execute_result"
    }
   ],
   "source": [
    "# TODO\n",
    "chart1 = alt.Chart(vega_datasets.data.movies.url).mark_bar().encode(\n",
    "    alt.X(\"IMDB_Rating:Q\",  bin=Bin(nice=True, maxbins=10)),\n",
    "    alt.Y('count()')\n",
    ").properties(\n",
    "    width=300,\n",
    "    height=150\n",
    ")\n",
    "chart2 = alt.Chart(vega_datasets.data.movies.url).mark_bar().encode(\n",
    "    alt.X(\"IMDB_Rating:Q\",  bin=Bin(nice=True, maxbins=50)),\n",
    "    alt.Y('count()')\n",
    ").properties(\n",
    "    width=300,\n",
    "    height=150\n",
    ")\n",
    "chart3 = alt.Chart(vega_datasets.data.movies.url).mark_bar().encode(\n",
    "    alt.X(\"IMDB_Votes:Q\",  bin=Bin(nice=True, maxbins=10)),\n",
    "    alt.Y('count()')\n",
    ").properties(\n",
    "    width=300,\n",
    "    height=150\n",
    ")\n",
    "chart4 = alt.Chart(vega_datasets.data.movies.url).mark_bar().encode(\n",
    "    alt.X(\"IMDB_Votes:Q\",  bin=Bin(nice=True, maxbins=50)),\n",
    "    alt.Y('count()')\n",
    ").properties(\n",
    "    width=300,\n",
    "    height=150\n",
    ")\n",
    "(chart1 | chart2) & (chart3 | chart4)"
   ]
  },
  {
   "cell_type": "code",
   "execution_count": 142,
   "metadata": {},
   "outputs": [
    {
     "data": {
      "text/html": [
       "\n",
       "<div id=\"altair-viz-f69621e546e24314a24b9175f85aa7a4\"></div>\n",
       "<script type=\"text/javascript\">\n",
       "  var VEGA_DEBUG = (typeof VEGA_DEBUG == \"undefined\") ? {} : VEGA_DEBUG;\n",
       "  (function(spec, embedOpt){\n",
       "    let outputDiv = document.currentScript.previousElementSibling;\n",
       "    if (outputDiv.id !== \"altair-viz-f69621e546e24314a24b9175f85aa7a4\") {\n",
       "      outputDiv = document.getElementById(\"altair-viz-f69621e546e24314a24b9175f85aa7a4\");\n",
       "    }\n",
       "    const paths = {\n",
       "      \"vega\": \"https://cdn.jsdelivr.net/npm//vega@5?noext\",\n",
       "      \"vega-lib\": \"https://cdn.jsdelivr.net/npm//vega-lib?noext\",\n",
       "      \"vega-lite\": \"https://cdn.jsdelivr.net/npm//vega-lite@4.17.0?noext\",\n",
       "      \"vega-embed\": \"https://cdn.jsdelivr.net/npm//vega-embed@6?noext\",\n",
       "    };\n",
       "\n",
       "    function maybeLoadScript(lib, version) {\n",
       "      var key = `${lib.replace(\"-\", \"\")}_version`;\n",
       "      return (VEGA_DEBUG[key] == version) ?\n",
       "        Promise.resolve(paths[lib]) :\n",
       "        new Promise(function(resolve, reject) {\n",
       "          var s = document.createElement('script');\n",
       "          document.getElementsByTagName(\"head\")[0].appendChild(s);\n",
       "          s.async = true;\n",
       "          s.onload = () => {\n",
       "            VEGA_DEBUG[key] = version;\n",
       "            return resolve(paths[lib]);\n",
       "          };\n",
       "          s.onerror = () => reject(`Error loading script: ${paths[lib]}`);\n",
       "          s.src = paths[lib];\n",
       "        });\n",
       "    }\n",
       "\n",
       "    function showError(err) {\n",
       "      outputDiv.innerHTML = `<div class=\"error\" style=\"color:red;\">${err}</div>`;\n",
       "      throw err;\n",
       "    }\n",
       "\n",
       "    function displayChart(vegaEmbed) {\n",
       "      vegaEmbed(outputDiv, spec, embedOpt)\n",
       "        .catch(err => showError(`Javascript Error: ${err.message}<br>This usually means there's a typo in your chart specification. See the javascript console for the full traceback.`));\n",
       "    }\n",
       "\n",
       "    if(typeof define === \"function\" && define.amd) {\n",
       "      requirejs.config({paths});\n",
       "      require([\"vega-embed\"], displayChart, err => showError(`Error loading script: ${err.message}`));\n",
       "    } else {\n",
       "      maybeLoadScript(\"vega\", \"5\")\n",
       "        .then(() => maybeLoadScript(\"vega-lite\", \"4.17.0\"))\n",
       "        .then(() => maybeLoadScript(\"vega-embed\", \"6\"))\n",
       "        .catch(showError)\n",
       "        .then(() => displayChart(vegaEmbed));\n",
       "    }\n",
       "  })({\"config\": {\"view\": {\"continuousWidth\": 400, \"continuousHeight\": 300}}, \"vconcat\": [{\"hconcat\": [{\"mark\": \"bar\", \"encoding\": {\"x\": {\"bin\": {\"maxbins\": 10, \"nice\": true}, \"field\": \"IMDB_Rating\", \"type\": \"quantitative\"}, \"y\": {\"aggregate\": \"count\", \"type\": \"quantitative\"}}, \"height\": 150, \"width\": 300}, {\"mark\": \"bar\", \"encoding\": {\"x\": {\"bin\": {\"maxbins\": 50, \"nice\": true}, \"field\": \"IMDB_Rating\", \"type\": \"quantitative\"}, \"y\": {\"aggregate\": \"count\", \"type\": \"quantitative\"}}, \"height\": 150, \"width\": 300}]}, {\"hconcat\": [{\"mark\": \"bar\", \"encoding\": {\"x\": {\"bin\": {\"maxbins\": 10, \"nice\": true}, \"field\": \"IMDB_Votes\", \"type\": \"quantitative\"}, \"y\": {\"aggregate\": \"count\", \"type\": \"quantitative\"}}, \"height\": 150, \"width\": 300}, {\"mark\": \"bar\", \"encoding\": {\"x\": {\"bin\": {\"maxbins\": 50, \"nice\": true}, \"field\": \"IMDB_Votes\", \"type\": \"quantitative\"}, \"y\": {\"aggregate\": \"count\", \"type\": \"quantitative\"}}, \"height\": 150, \"width\": 300}]}], \"data\": {\"url\": \"https://cdn.jsdelivr.net/npm/vega-datasets@v1.29.0/data/movies.json\"}, \"$schema\": \"https://vega.github.io/schema/vega-lite/v4.17.0.json\"}, {\"mode\": \"vega-lite\"});\n",
       "</script>"
      ],
      "text/plain": [
       "alt.VConcatChart(...)"
      ]
     },
     "execution_count": 142,
     "metadata": {},
     "output_type": "execute_result"
    }
   ],
   "source": [
    "base = alt.Chart().mark_bar().encode(\n",
    ").properties(\n",
    "    width=300,\n",
    "    height=150\n",
    ")\n",
    "\n",
    "chart = alt.vconcat(data=vega_datasets.data.movies.url)\n",
    "for x_encoding in ['IMDB_Rating:Q', 'IMDB_Votes:Q']:\n",
    "    row = alt.hconcat()\n",
    "    row |= base.encode(x=alt.X(x_encoding, bin=Bin(nice=True, maxbins=10)), y='count()')\n",
    "    row |= base.encode(x=alt.X(x_encoding, bin=Bin(nice=True, maxbins=50)), y='count()')\n",
    "    chart &= row\n",
    "\n",
    "chart"
   ]
  },
  {
   "cell_type": "code",
   "execution_count": null,
   "metadata": {},
   "outputs": [],
   "source": []
  }
 ],
 "metadata": {
  "anaconda-cloud": {},
  "colab": {
   "collapsed_sections": [],
   "name": "m08-lab.ipynb",
   "provenance": []
  },
  "kernel_info": {
   "name": "dviz"
  },
  "kernelspec": {
   "display_name": "Python 3 (ipykernel)",
   "language": "python",
   "name": "python3"
  },
  "language_info": {
   "codemirror_mode": {
    "name": "ipython",
    "version": 3
   },
   "file_extension": ".py",
   "mimetype": "text/x-python",
   "name": "python",
   "nbconvert_exporter": "python",
   "pygments_lexer": "ipython3",
   "version": "3.9.12"
  },
  "nteract": {
   "version": "0.23.3"
  },
  "toc": {
   "nav_menu": {},
   "number_sections": true,
   "sideBar": true,
   "skip_h1_title": false,
   "title_cell": "Table of Contents",
   "title_sidebar": "Contents",
   "toc_cell": false,
   "toc_position": {},
   "toc_section_display": true,
   "toc_window_display": false
  },
  "vscode": {
   "interpreter": {
    "hash": "03b51ab36bb8f9de78c91bbf18eba9dba65d4dce99c2605bea85b76fd5895159"
   }
  }
 },
 "nbformat": 4,
 "nbformat_minor": 2
}
